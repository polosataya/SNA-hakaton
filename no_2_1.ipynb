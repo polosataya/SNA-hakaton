{
 "cells": [
  {
   "cell_type": "code",
   "execution_count": 174,
   "metadata": {},
   "outputs": [],
   "source": [
    "import pandas as pd\n",
    "import numpy as np\n",
    "from sklearn.model_selection import train_test_split, cross_val_score, KFold\n",
    "import lightgbm as lgb\n",
    "from sklearn.metrics import roc_auc_score, log_loss"
   ]
  },
  {
   "cell_type": "code",
   "execution_count": 175,
   "metadata": {},
   "outputs": [],
   "source": [
    "col_df = pd.read_csv('col_list_SNA.csv', index_col=0)\n",
    "col_list = list(col_df['feature'])[0:200]\n",
    "col_list.remove(\"Unnamed: 0\")"
   ]
  },
  {
   "cell_type": "code",
   "execution_count": 177,
   "metadata": {},
   "outputs": [],
   "source": [
    "X_train = pd.read_csv('X_train_sample_x2.csv', index_col =0, usecols = col_list)\n",
    "X_test = pd.read_csv('X_test_sample.csv', index_col=0, usecols = col_list)"
   ]
  },
  {
   "cell_type": "code",
   "execution_count": 11,
   "metadata": {},
   "outputs": [
    {
     "data": {
      "text/html": [
       "<div>\n",
       "<style scoped>\n",
       "    .dataframe tbody tr th:only-of-type {\n",
       "        vertical-align: middle;\n",
       "    }\n",
       "\n",
       "    .dataframe tbody tr th {\n",
       "        vertical-align: top;\n",
       "    }\n",
       "\n",
       "    .dataframe thead th {\n",
       "        text-align: right;\n",
       "    }\n",
       "</style>\n",
       "<table border=\"1\" class=\"dataframe\">\n",
       "  <thead>\n",
       "    <tr style=\"text-align: right;\">\n",
       "      <th></th>\n",
       "      <th>target</th>\n",
       "    </tr>\n",
       "  </thead>\n",
       "  <tbody>\n",
       "    <tr>\n",
       "      <th>10097801</th>\n",
       "      <td>1.0</td>\n",
       "    </tr>\n",
       "    <tr>\n",
       "      <th>13545290</th>\n",
       "      <td>0.0</td>\n",
       "    </tr>\n",
       "    <tr>\n",
       "      <th>2256020</th>\n",
       "      <td>0.0</td>\n",
       "    </tr>\n",
       "    <tr>\n",
       "      <th>25454667</th>\n",
       "      <td>0.0</td>\n",
       "    </tr>\n",
       "    <tr>\n",
       "      <th>30238157</th>\n",
       "      <td>0.0</td>\n",
       "    </tr>\n",
       "  </tbody>\n",
       "</table>\n",
       "</div>"
      ],
      "text/plain": [
       "          target\n",
       "10097801     1.0\n",
       "13545290     0.0\n",
       "2256020      0.0\n",
       "25454667     0.0\n",
       "30238157     0.0"
      ]
     },
     "execution_count": 11,
     "metadata": {},
     "output_type": "execute_result"
    }
   ],
   "source": [
    "y_train = pd.read_csv('X_train_sample_x2.csv', index_col =0)[['target']]\n",
    "y_test = pd.read_csv('X_test_sample.csv', index_col =0)[[\"instanceId_userId\", \"instanceId_objectId\"]]\n",
    "y_train.head()"
   ]
  },
  {
   "cell_type": "markdown",
   "metadata": {},
   "source": [
    "# with images"
   ]
  },
  {
   "cell_type": "code",
   "execution_count": 14,
   "metadata": {},
   "outputs": [],
   "source": [
    "test_word = pd.read_csv('test_word.csv', index_col=0)"
   ]
  },
  {
   "cell_type": "code",
   "execution_count": 15,
   "metadata": {},
   "outputs": [],
   "source": [
    "train_word1 = pd.read_csv('train_word1.csv', index_col=0)\n",
    "train_word410001 = pd.read_csv('train_word410001.csv', index_col=0)\n",
    "train_word820001 = pd.read_csv('train_word820001.csv', index_col=0)\n",
    "train_word1230001 = pd.read_csv('train_word1230001.csv', index_col=0)"
   ]
  },
  {
   "cell_type": "code",
   "execution_count": 16,
   "metadata": {},
   "outputs": [],
   "source": [
    "word = pd.concat([test_word, train_word1, train_word410001, train_word820001, train_word1230001])\n",
    "word = word.drop_duplicates(subset='ImageId', keep='first')"
   ]
  },
  {
   "cell_type": "code",
   "execution_count": 18,
   "metadata": {},
   "outputs": [],
   "source": [
    "del test_word, train_word1, train_word410001, train_word820001, train_word1230001"
   ]
  },
  {
   "cell_type": "code",
   "execution_count": 19,
   "metadata": {},
   "outputs": [],
   "source": [
    "word = word.replace(['green_lizard', 'Komodo_dragon', 'spotted_salamander', \\\n",
    "                     'European_fire_salamander', 'American_alligator','agama',\\\n",
    "                     'American_chameleon', 'Gila_monster', 'alligator_lizard',\\\n",
    "                     'whiptail', 'African_crocodile','common_iguana', 'common_newt',\\\n",
    "                     'axolotl', 'frilled_lizard','African_chameleon', 'banded_gecko',\\\n",
    "                     'eft', 'garter_snake', 'green_snake', 'night_snake', 'king_snake',\\\n",
    "                     'sidewinder', 'hognose_snake', 'sea_snake', 'water_snake', \\\n",
    "                     'boa_constrictor', 'ringneck_snake', 'rock_python', 'green_mamba',\\\n",
    "                     'vine_snake','horned_viper','thunder_snake','Indian_cobra'],'reptile')"
   ]
  },
  {
   "cell_type": "code",
   "execution_count": 20,
   "metadata": {},
   "outputs": [],
   "source": [
    "word = word.replace(['black_and_gold_garden_spider','wolf_spider','cicada','leafhopper',\\\n",
    "                     'garden_spider','tiger_beetle', 'grasshopper', 'dung_beetle', \\\n",
    "                     'black_widow', 'weevil', 'harvestman', 'flatworm', 'mantis',\\\n",
    "                     'damselfly','leaf_beetle','lycaenid','lacewing','ground_beetle',\\\n",
    "                     'sea_cucumber', 'long-horned_beetle', 'centipede', 'tarantula', \\\n",
    "                     'rhinoceros_beetle', 'fly', 'trilobite', 'cockroach', 'dragonfly',\\\n",
    "                     'ladybug', 'spider_web', 'scorpion', 'apiary', 'tick',\\\n",
    "                     'cabbage_butterfly', 'ant', 'chiton','monarch', 'barn_spider', \\\n",
    "                     'isopod','sulphur_butterfly','nematode','bee','grille'],'insects')"
   ]
  },
  {
   "cell_type": "code",
   "execution_count": 21,
   "metadata": {},
   "outputs": [],
   "source": [
    "word = word.replace(['red-backed_sandpiper', 'dowitcher', 'American_coot', 'redshank',\\\n",
    "                     'ruddy_turnstone', 'oystercatcher','toucan', 'hornbill', 'junco',\\\n",
    "                     'quail', 'bustard', 'bittern', 'magpie', 'European_gallinule',\\\n",
    "                     'ostrich', 'little_blue_heron', 'limpkin', 'jay', 'coucal', \\\n",
    "                     'chickadee', 'drake','water_ouzel','bulbul','robin','black_swan',\\\n",
    "                     'jacamar', 'vulture', 'peacock', 'sulphur-crested_cockatoo', \\\n",
    "                     'house_finch','red-breasted_merganser', 'white_stork', \\\n",
    "                     'ruffed_grouse', 'spoonbill', 'lorikeet', 'African_grey', \\\n",
    "                     'bee_eater', 'flamingo', 'goldfinch', 'bald_eagle', 'ptarmigan',\\\n",
    "                     'pelican', 'partridge', 'albatross', 'indigo_bunting',\\\n",
    "                     'American_egret','black_stork','goose','macaw','great_grey_owl',\\\n",
    "                     'hummingbird', 'brambling', 'cock', 'hen', 'prairie_chicken', \\\n",
    "                     'black_grouse', 'king_penguin'], 'bird')"
   ]
  },
  {
   "cell_type": "code",
   "execution_count": 22,
   "metadata": {},
   "outputs": [],
   "source": [
    "word = word.replace(['anemone_fish', 'stingray', 'puffer', 'eel', 'lionfish', \\\n",
    "                     'rock_beauty', 'great_white_shark', 'tiger_shark','hammerhead',\\\n",
    "                     'starfish', 'sea_slug', 'goldfish', 'grey_whale', 'dugong', \\\n",
    "                     'brain_coral', 'sea_anemone', 'hermit_crab', 'spiny_lobster', \\\n",
    "                     'fiddler_crab', 'rock_crab', 'slug', 'sea_urchin', 'crayfish', \\\n",
    "                     'Dungeness_crab','snail','tree_frog','bullfrog','tailed_frog',\\\n",
    "                     'box_turtle', 'mud_turtle', 'loggerhead', 'leatherback_turtle',\\\n",
    "                     'terrapin','sturgeon', 'chambered_nautilus', 'coho', 'king_crab',\\\n",
    "                     'electric_ray','gar','amphibian','conch','tench','killer_whale',\\\n",
    "                     'sea_lion', 'jellyfish', 'American_lobster', 'coral_reef',\\\n",
    "                     'barracouta'], 'sea_creatures')"
   ]
  },
  {
   "cell_type": "code",
   "execution_count": 23,
   "metadata": {},
   "outputs": [],
   "source": [
    "word = word.replace(['EntleBucher', 'silky_terrier', 'miniature_poodle',\\\n",
    "                     'Tibetan_terrier', 'Shetland_sheepdog',\\\n",
    "                     'Greater_Swiss_Mountain_dog','African_hunting_dog','otterhound',\\\n",
    "                     'miniature_schnauzer','Australian_terrier', 'Norfolk_terrier',\\\n",
    "                     'English_springer', 'Welsh_springer_spaniel', 'basset',\\\n",
    "                     'Bernese_mountain_dog', 'Border_terrier', 'Irish_terrier',\\\n",
    "                     'Appenzeller', 'Kerry_blue_terrier', 'toy_terrier', 'bluetick',\\\n",
    "                     'Blenheim_spaniel', 'Brittany_spaniel', 'Scotch_terrier',\\\n",
    "                     'soft-coated_wheaten_terrier',  'English_foxhound',\\\n",
    "                     'affenpinscher','Bedlington_terrier', 'Irish_water_spaniel',\\\n",
    "                     'dalmatian', 'standard_schnauzer', 'curly-coated_retriever',\\\n",
    "                     'black-and-tan_coonhound','Airedale','giant_schnauzer','briard',\\\n",
    "                     'Shih-Tzu', 'Sealyham_terrier', 'Walker_hound', 'Leonberg',\\\n",
    "                     'English_setter', 'boxer','Scottish_deerhound', 'Rottweiler',\\\n",
    "                     'Pekinese', 'Japanese_spaniel', 'bull_mastiff', \\\n",
    "                     'miniature_pinscher','Boston_bull','Newfoundland','toy_poodle',\\\n",
    "                     'Irish_setter','Italian_greyhound','Border_collie','keeshond',\\\n",
    "                     'cocker_spaniel', 'standard_poodle','Gordon_setter',\\\n",
    "                     'Chesapeake_Bay_retriever','Weimaraner','flat-coated_retriever',\\\n",
    "                     'beagle', 'wire-haired_fox_terrier', 'Rhodesian_ridgeback',\\\n",
    "                     'Ibizan_hound', 'Norwich_terrier', 'basenji', 'Dandie_Dinmont',\\\n",
    "                     'collie', 'Irish_wolfhound', 'Tibetan_mastiff', \\\n",
    "                     'German_short-haired_pointer', 'Lakeland_terrier',\\\n",
    "                     'Brabancon_griffon','Saint_Bernard', 'Doberman','Maltese_dog',\\\n",
    "                     'clumber', 'schipperke', 'Yorkshire_terrier','papillon',\\\n",
    "                     'French_bulldog', 'komondor', 'West_Highland_white_terrier',\\\n",
    "                     'American_Staffordshire_terrier','borzoi', 'Saluki',\\\n",
    "                     'Norwegian_elkhound', 'dingo','Samoyed', 'Eskimo_dog',\\\n",
    "                     'Staffordshire_bullterrier','malinois','Old_English_sheepdog',\\\n",
    "                     'chow', 'Mexican_hairless', 'Pomeranian', 'Great_Pyrenees',\\\n",
    "                     'whippet', 'vizsla', 'pug','Sussex_spaniel', 'Afghan_hound',\\\n",
    "                     'kelpie','malamute','bloodhound','golden_retriever','kuvasz',\\\n",
    "                     'groenendael', 'Bouvier_des_Flandres', 'Labrador_retriever',\\\n",
    "                     'Great_Dane', 'Siberian_husky', 'Chihuahua', 'German_shepherd',\\\n",
    "                     'redbone'], 'dog')"
   ]
  },
  {
   "cell_type": "code",
   "execution_count": 24,
   "metadata": {},
   "outputs": [],
   "source": [
    "word = word.replace(['Angora', 'Siamese_cat', 'tiger_cat', 'Egyptian_cat', 'tabby', \\\n",
    "                     'Persian_cat'], 'cat')"
   ]
  },
  {
   "cell_type": "code",
   "execution_count": 25,
   "metadata": {},
   "outputs": [],
   "source": [
    "word = word.replace(['howler_monkey', 'squirrel_monkey', 'spider_monkey', 'colobus',\\\n",
    "                     'siamang', 'langur', 'marmoset', 'three-toed_sloth', 'capuchin',\\\n",
    "                     'gibbon', 'guenon', 'gorilla', 'baboon', 'titi','patas', \\\n",
    "                     'proboscis_monkey', 'indri', 'macaque', 'orangutan', \\\n",
    "                     'chimpanzee'], 'monkey')"
   ]
  },
  {
   "cell_type": "code",
   "execution_count": 26,
   "metadata": {},
   "outputs": [],
   "source": [
    "word = word.replace(['agaric', 'mushroom', 'bolete', 'stinkhorn', 'gyromitra',\\\n",
    "                     'earthstar', 'coral_fungus', 'hen-of-the-woods'], 'mushrooms')"
   ]
  },
  {
   "cell_type": "code",
   "execution_count": 27,
   "metadata": {},
   "outputs": [],
   "source": [
    "word = word.replace(['plane', 'space_shuttle', 'airliner', 'parachute', 'warplane', 'airship'], 'air')"
   ]
  },
  {
   "cell_type": "code",
   "execution_count": 28,
   "metadata": {},
   "outputs": [],
   "source": [
    "word = word.replace(['yawl', 'catamaran', 'lifeboat', 'speedboat', 'trimaran', \\\n",
    "                     'schooner', 'paddlewheel','liner','fireboat', 'canoe', \\\n",
    "                     'container_ship', 'aircraft_carrier', 'gondola', \\\n",
    "                     'drilling_platform', 'submarine'], 'boat')"
   ]
  },
  {
   "cell_type": "code",
   "execution_count": 29,
   "metadata": {},
   "outputs": [],
   "source": [
    "word = word.replace(['electric_locomotive','freight_car', 'bullet_train', \\\n",
    "                     'steam_locomotive', 'streetcar', \\\n",
    "                     'passenger_car', 'trolleybus'], 'train')"
   ]
  },
  {
   "cell_type": "code",
   "execution_count": 30,
   "metadata": {},
   "outputs": [],
   "source": [
    "word = word.replace(['impala', 'Model_T', 'convertible', 'pickup', 'jeep', \\\n",
    "                     'minivan', 'sports_car', 'limousine','car_wheel', 'car_mirror',\\\n",
    "                     'seat_belt'], 'car')"
   ]
  },
  {
   "cell_type": "code",
   "execution_count": 31,
   "metadata": {},
   "outputs": [],
   "source": [
    "word = word.replace(['plow','forklift','harvester','thresher','tractor',\\\n",
    "                     'garbage_truck','crane','moving_van','snowplow','tow_truck',\\\n",
    "                     'trailer_truck','fire_engine','police_van','ambulance',\\\n",
    "                     'school_bus','recreational_vehicle','minibus','cab'], 'work_machines')"
   ]
  },
  {
   "cell_type": "code",
   "execution_count": 32,
   "metadata": {},
   "outputs": [],
   "source": [
    "word = word.replace(['diamondback', \"bicycle-built-for-two\", 'moped', 'motor_scooter',\\\n",
    "                     'unicycle', 'mountain_bike', 'snowmobile', 'racer', 'golfcart', \\\n",
    "                     'go-kart'], 'bike')"
   ]
  },
  {
   "cell_type": "code",
   "execution_count": 33,
   "metadata": {},
   "outputs": [],
   "source": [
    "word = word.replace(['horse_cart', 'oxcart', 'jinrikisha', 'dogsled'], 'cart')"
   ]
  },
  {
   "cell_type": "code",
   "execution_count": 34,
   "metadata": {},
   "outputs": [],
   "source": [
    "word = word.replace(['maypole', 'totem_pole', 'carousel', 'park_bench', 'fountain',\\\n",
    "                     'swing', 'yurt', ], 'park')"
   ]
  },
  {
   "cell_type": "code",
   "execution_count": 35,
   "metadata": {},
   "outputs": [],
   "source": [
    "word = word.replace(['Lhasa', 'cliff_dwelling', 'water_tower', 'obelisk', 'tile_roof',\\\n",
    "                     'radio_telescope','triumphal_arch','viaduct','sundial','Pembroke',\\\n",
    "                     'dome', 'stone_wall','suspension_bridge', 'megalith',\\\n",
    "                     'steel_arch_bridge', 'manhole_cover', 'stupa', 'barrow','mosque',\\\n",
    "                     'bell_cote', 'beacon', 'patio', 'solar_dish', 'dam', 'castle', \\\n",
    "                     'palace','guillotine', 'pedestal', 'upright'], 'architecture')"
   ]
  },
  {
   "cell_type": "code",
   "execution_count": 36,
   "metadata": {},
   "outputs": [],
   "source": [
    "word = word.replace(['valley', 'cliff','alp','seashore','lakeside','geyser','volcano',\\\n",
    "                     'promontory', 'pier','sandbar', 'planetarium', 'dock', 'wreck', \\\n",
    "                     'breakwater', 'boathouse', 'pole'], 'nature')"
   ]
  },
  {
   "cell_type": "code",
   "execution_count": 37,
   "metadata": {},
   "outputs": [],
   "source": [
    "word = word.replace(['vestment', 'altar', 'church', 'monastery'], 'churchs')"
   ]
  },
  {
   "cell_type": "code",
   "execution_count": 38,
   "metadata": {},
   "outputs": [],
   "source": [
    "word = word.replace(['cheeseburger', 'broccoli','zucchini', 'espresso','mashed_potato',\\\n",
    "                     'guacamole', 'ice_cream','bagel', 'pizza', 'ice_lolly', 'hotdog',\\\n",
    "                     'acorn_squash', 'burrito', 'pretzel', 'honeycomb', 'dough',\\\n",
    "                     'confectionery', 'carbonara', 'rotisserie', 'chocolate_sauce',\\\n",
    "                     'hot_pot', 'bakery','consomme', 'trifle', 'spaghetti_squash',\\\n",
    "                     'meat_loaf', 'eggnog', 'potpie', 'French_loaf', 'pineapple', \\\n",
    "                     'acorn', 'fig', 'drumstick', 'Granny_Smith', 'artichoke', \\\n",
    "                     'banana', 'orange', 'pomegranate','lemon','jackfruit','buckeye',\\\n",
    "                     'cauliflower', 'butternut_squash','corn','cucumber','bell_pepper',\\\n",
    "                     'custard_apple',  'head_cabbage', 'strawberry'], 'food')"
   ]
  },
  {
   "cell_type": "code",
   "execution_count": 39,
   "metadata": {},
   "outputs": [],
   "source": [
    "word = word.replace(['beer_bottle', 'wine_bottle', 'beer_glass', 'red_wine', \\\n",
    "                     'whiskey_jug', 'restaurant'], 'alcohol')"
   ]
  },
  {
   "cell_type": "code",
   "execution_count": 40,
   "metadata": {},
   "outputs": [],
   "source": [
    "word = word.replace(['soup_bowl', 'Crock_Pot', 'teapot', 'saltshaker','ladle','wok',\\\n",
    "                     'strainer', 'pitcher','bottlecap', 'water_bottle', 'coffeepot', \\\n",
    "                     'spatula', 'pop_bottle', 'goblet', 'paddle', 'measuring_cup', \\\n",
    "                     'wooden_spoon', 'corkscrew', 'water_jug', 'mixing_bowl', \n",
    "                     'cocktail_shaker','cup', 'frying_pan', 'beaker', 'coffee_mug',\\\n",
    "                     'caldron', 'Dutch_oven', 'tray', 'vase', 'pot',\\\n",
    "                     'plate', 'mortar', 'cleaver', 'plate_rack'], 'dinnerware')"
   ]
  },
  {
   "cell_type": "code",
   "execution_count": 41,
   "metadata": {},
   "outputs": [],
   "source": [
    "word = word.replace(['cricket','scuba_diver','baseball','golf_ball','football_helmet',\\\n",
    "                     'mountain_tent','pool_table','rugby_ball','snorkel','croquet_ball',\\\n",
    "                     'basketball', 'knee_pad', 'crash_helmet', 'ballplayer', 'racket',\\\n",
    "                     'tennis_ball', 'volleyball', 'ping-pong_ball', 'puck', 'whistle',\\\n",
    "                     'soccer_ball', 'sleeping_bag', 'punching_bag', 'bobsled',\\\n",
    "                     'dumbbell','barbell', 'bow','balance_beam','ski','horizontal_bar',\\\n",
    "                     'parallel_bars'], 'sport')"
   ]
  },
  {
   "cell_type": "code",
   "execution_count": 42,
   "metadata": {},
   "outputs": [],
   "source": [
    "word = word.replace(['matchstick', 'candle', 'lighter'], 'fire')"
   ]
  },
  {
   "cell_type": "code",
   "execution_count": 43,
   "metadata": {},
   "outputs": [],
   "source": [
    "word = word.replace(['tiger', 'lynx', 'lion', 'leopard', 'jaguar', 'snow_leopard', 'cougar', 'cheetah'], 'big_cat')"
   ]
  },
  {
   "cell_type": "code",
   "execution_count": 44,
   "metadata": {},
   "outputs": [],
   "source": [
    "word = word.replace(['timber_wolf', 'white_wolf', 'red_wolf', 'grey_fox', 'red_fox',\\\n",
    "                     'Arctic_fox', 'kit_fox', 'coyote', 'dhole'], 'wolf_fox')"
   ]
  },
  {
   "cell_type": "code",
   "execution_count": 45,
   "metadata": {},
   "outputs": [],
   "source": [
    "word = word.replace(['brown_bear', 'sloth_bear', 'American_black_bear', 'koala',\\\n",
    "                     'lesser_panda', 'giant_panda','wallaby', 'armadillo', 'skunk',\\\n",
    "                     'badger', 'otter', 'marmot', 'wombat', 'beaver', 'hyena', \\\n",
    "                     'porcupine', 'echidna', 'platypus', 'guinea_pig', 'hamster',\\\n",
    "                     'hare', 'mouse', 'fox_squirrel','mongoose', 'Madagascar_cat',\\\n",
    "                     'black-footed_ferret', 'mink', 'polecat', 'meerkat', \\\n",
    "                     'weasel'], 'wild_animals')"
   ]
  },
  {
   "cell_type": "code",
   "execution_count": 46,
   "metadata": {},
   "outputs": [],
   "source": [
    "word = word.replace(['wild_boar', 'water_buffalo', 'warthog', 'bighorn', \\\n",
    "                     'African_elephant', 'gazelle', 'bison','zebra', 'llama',\\\n",
    "                     'hippopotamus', 'triceratops', 'hartebeest', 'ibex', 'ox',\\\n",
    "                     'Indian_elephant', 'hog', 'Arabian_camel', 'tusker'], 'hocktail')"
   ]
  },
  {
   "cell_type": "code",
   "execution_count": 47,
   "metadata": {},
   "outputs": [],
   "source": [
    "word = word.replace(['chiffonier', 'china_cabinet','chest','folding_chair','pillow',\\\n",
    "                     'rocking_chair', 'safe','entertainment_center', 'table_lamp',\\\n",
    "                     'barber_chair', 'shoji', 'sliding_door', 'bannister',\\\n",
    "                     'window_shade', 'fire_screen', 'desk', 'dining_table',\\\n",
    "                     'four-poster', 'wardrobe','studio_couch', 'prayer_rug', \\\n",
    "                     'window_screen', 'throne'], 'furniture')"
   ]
  },
  {
   "cell_type": "code",
   "execution_count": 48,
   "metadata": {},
   "outputs": [],
   "source": [
    "word = word.replace(['cradle', 'bassinet', 'diaper', 'beach_wagon', 'crib', 'bib'], 'furniture_ch')"
   ]
  },
  {
   "cell_type": "code",
   "execution_count": 49,
   "metadata": {},
   "outputs": [],
   "source": [
    "word = word.replace(['toilet_tissue', 'apron', 'dishrag', 'plunger', 'mosquito_net',\\\n",
    "                     'doormat', 'broom', 'bath_towel', 'washbasin', 'soap_dispenser',\\\n",
    "                     'tub', 'paper_towel', 'quilt', 'bathtub',\\\n",
    "                     'toilet_seat', 'handkerchief', 'shower_curtain'], 'domestic')"
   ]
  },
  {
   "cell_type": "code",
   "execution_count": 50,
   "metadata": {},
   "outputs": [],
   "source": [
    "word = word.replace(['space_heater', 'dishwasher', 'toaster', 'scale', 'radiator',\\\n",
    "                     'espresso_maker', 'vacuum','electric_fan', 'sewing_machine',\\\n",
    "                     'waffle_iron', 'washer', 'iron', 'stove', 'microwave', \\\n",
    "                     'refrigerator'], 'domestic_tech')"
   ]
  },
  {
   "cell_type": "code",
   "execution_count": 51,
   "metadata": {},
   "outputs": [],
   "source": [
    "word = word.replace(['digital_clock', 'digital_watch','magnetic_compass','barometer',\\\n",
    "                     'odometer','parking_meter','stopwatch', 'binoculars', 'hourglass',\\\n",
    "                     'remote_control',  'wall_clock', 'analog_clock', 'switch', \\\n",
    "                     'scoreboard', 'combination_lock', 'vault', 'padlock'], 'appliances')"
   ]
  },
  {
   "cell_type": "code",
   "execution_count": 52,
   "metadata": {},
   "outputs": [],
   "source": [
    "word = word.replace(['screw', 'hatchet', 'lawn_mower', 'power_drill', 'reel', \\\n",
    "                     'disk_brake', 'hammer', 'spindle', 'chain', 'chain_saw', 'coil',\\\n",
    "                     'screwdriver',\"carpenter's_kit\",'oil_filter','hand_blower',\\\n",
    "                     'can_opener', 'shovel', 'hook', 'torch', 'mousetrap'], 'household')"
   ]
  },
  {
   "cell_type": "code",
   "execution_count": 53,
   "metadata": {},
   "outputs": [],
   "source": [
    "word = word.replace(['French_horn', 'trombone', 'cello','acoustic_guitar','oboe',\\\n",
    "                     'cornet', 'violin', 'bassoon','organ', 'grand_piano',\\\n",
    "                     'steel_drum', 'banjo', 'flute', 'drum', 'chime', 'marimba',\\\n",
    "                     'loudspeaker', 'microphone', 'electric_guitar', 'pick', 'sax',\\\n",
    "                     'ocarina', 'accordion', 'maraca', 'gong', 'harmonica', 'panpipe',\\\n",
    "                     'harp','home_theater'], 'musical')"
   ]
  },
  {
   "cell_type": "code",
   "execution_count": 54,
   "metadata": {},
   "outputs": [],
   "source": [
    "word = word.replace(['Polaroid_camera','computer_keyboard','radio','dial_telephone',\\\n",
    "                     'printer','cassette_player','CD_player','tripod','photocopier',\\\n",
    "                     'reflex_camera','typewriter_keyboard','joystick','tape_player',\\\n",
    "                     'projector','lens_cap', 'laptop','iPod', 'desktop_computer', \\\n",
    "                     'hard_disc','cassette','notebook','space_bar','modem',\\\n",
    "                     'pay-phone','hand-held_computer','cellular_telephone',\\\n",
    "                     'monitor', 'screen', 'television', 'ram'], 'technique')"
   ]
  },
  {
   "cell_type": "code",
   "execution_count": 55,
   "metadata": {},
   "outputs": [],
   "source": [
    "word = word.replace(['pencil_box','abacus','fountain_pen','file','pencil_sharpener',\\\n",
    "                     'rubber_eraser', 'safety_pin', 'ballpoint', 'loupe', 'rule',\\\n",
    "                     'paintbrush', 'quill', 'slide_rule', 'thimble', 'binder',\\\n",
    "                     'letter_opener','envelope','bookcase', 'library','bookshop',\\\n",
    "                     'maze', 'jigsaw_puzzle', 'crossword_puzzle'], 'office')"
   ]
  },
  {
   "cell_type": "code",
   "execution_count": 56,
   "metadata": {},
   "outputs": [],
   "source": [
    "word = word.replace(['ringlet', 'hair_slide', 'ear', 'wig'], 'head')"
   ]
  },
  {
   "cell_type": "code",
   "execution_count": 57,
   "metadata": {},
   "outputs": [],
   "source": [
    "word = word.replace([\"yellow_lady's_slipper\", 'rapeseed', 'cardoon', 'daisy', 'sorrel'], 'flowers')"
   ]
  },
  {
   "cell_type": "code",
   "execution_count": 58,
   "metadata": {},
   "outputs": [],
   "source": [
    "word = word.replace(['cannon', 'revolver', 'missile', 'half_track','assault_rifle',\\\n",
    "                     'rifle', 'tank', 'projectile', 'scabbard'], 'military')"
   ]
  },
  {
   "cell_type": "code",
   "execution_count": 59,
   "metadata": {},
   "outputs": [],
   "source": [
    "word = word.replace(['piggy_bank', \"jack-o'-lantern\", 'kite', 'wood_rabbit', \\\n",
    "                     'pinwheel', 'Christmas_stocking',\\\n",
    "                     'ice_bear', 'bubble', 'teddy', 'tricycle', 'balloon'], 'toy')"
   ]
  },
  {
   "cell_type": "code",
   "execution_count": 60,
   "metadata": {},
   "outputs": [],
   "source": [
    "word = word.replace(['syringe', 'stethoscope', 'oscilloscope', 'Petri_dish', \\\n",
    "                     'crutch', 'hip', 'stretcher', 'swab', 'medicine_chest',\\\n",
    "                     'oxygen_mask', 'neck_brace', 'pill_bottle', 'Band_Aid', \\\n",
    "                     'lab_coat'], 'medicine')"
   ]
  },
  {
   "cell_type": "code",
   "execution_count": 61,
   "metadata": {},
   "outputs": [],
   "source": [
    "word = word.replace(['backpack', 'wallet', 'purse', 'mailbag'], 'bags')"
   ]
  },
  {
   "cell_type": "code",
   "execution_count": 62,
   "metadata": {},
   "outputs": [],
   "source": [
    "word = word.replace(['mitten', 'Cardigan', 'sock', 'sweatshirt', 'trench_coat', \\\n",
    "                     'velvet', 'cardigan', 'wool', 'poncho', 'kimono','jersey', \\\n",
    "                     'stole', 'academic_gown', 'cloak', 'fur_coat', 'pajama',\\\n",
    "                     'jean', 'miniskirt'], 'clothes')"
   ]
  },
  {
   "cell_type": "code",
   "execution_count": 63,
   "metadata": {},
   "outputs": [],
   "source": [
    "word = word.replace(['sarong', 'swimming_trunks', 'sunglass', 'sunglasses', \\\n",
    "                     'nipple', 'brassiere', 'bikini', 'maillot'], 'beach')"
   ]
  },
  {
   "cell_type": "code",
   "execution_count": 64,
   "metadata": {},
   "outputs": [],
   "source": [
    "word = word.replace(['holster', 'bulletproof_vest', 'gasmask', 'military_uniform',\\\n",
    "                     'scabbard','ski_mask','mask','admiral','pirate','chain_mail',\\\n",
    "                     'breastplate', 'cuirass', 'pickelhaube', 'shield'], 'camouflage')"
   ]
  },
  {
   "cell_type": "code",
   "execution_count": 65,
   "metadata": {},
   "outputs": [],
   "source": [
    "word = word.replace(['running_shoe', 'Loafer', 'cowboy_boot', 'sandal', 'clog'], 'shoes')"
   ]
  },
  {
   "cell_type": "code",
   "execution_count": 66,
   "metadata": {},
   "outputs": [],
   "source": [
    "word = word.replace(['mortarboard', 'cowboy_hat', 'sombrero', 'bathing_cap', \\\n",
    "                     'shower_cap', 'bonnet', 'bearskin'], 'hats')"
   ]
  },
  {
   "cell_type": "code",
   "execution_count": 67,
   "metadata": {},
   "outputs": [],
   "source": [
    "word = word.replace(['vending_machine', 'bookshop', 'gas_pump', 'shoe_shop',\\\n",
    "                     'grocery_store', 'butcher_shop', 'tobacco_shop', 'hamper',\\\n",
    "                     'barbershop', 'slot', 'cash_machine', 'toyshop'], 'shop')"
   ]
  },
  {
   "cell_type": "code",
   "execution_count": 68,
   "metadata": {},
   "outputs": [],
   "source": [
    "word = word.replace(['groom', 'suit', 'Windsor_tie', 'bow_tie', 'bolo_tie', 'buckle'], 'men')"
   ]
  },
  {
   "cell_type": "code",
   "execution_count": 69,
   "metadata": {},
   "outputs": [],
   "source": [
    "word = word.replace(['abaya', 'overskirt', 'gown', 'hoopskirt', 'feather_boa', 'necklace'], 'women')"
   ]
  },
  {
   "cell_type": "code",
   "execution_count": 70,
   "metadata": {},
   "outputs": [],
   "source": [
    "word = word.replace(['perfume', 'lipstick', 'hair_spray', 'face_powder', 'sunscreen',\\\n",
    "                     'lotion', 'nail'], 'cosmetics')"
   ]
  },
  {
   "cell_type": "code",
   "execution_count": 71,
   "metadata": {},
   "outputs": [],
   "source": [
    "word = word.replace(['theater_curtain', 'stage', 'cinema', 'spotlight'], 'stages')"
   ]
  },
  {
   "cell_type": "code",
   "execution_count": 72,
   "metadata": {},
   "outputs": [],
   "source": [
    "word = word.replace(['plastic_bag', 'crate', 'carton', 'packet', 'rain_barrel', 'milk_can', 'bucket', 'barrel', 'ashcan', 'hamper'], 'packets')"
   ]
  },
  {
   "cell_type": "code",
   "execution_count": 73,
   "metadata": {},
   "outputs": [],
   "source": [
    "word = word.replace(['hay', 'thatch', 'birdhouse', 'worm_fence', 'greenhouse', 'barn', 'lumbermill', 'picket_fence', 'mobile_home', 'chainlink_fence', 'prison'], 'village')"
   ]
  },
  {
   "cell_type": "code",
   "execution_count": 77,
   "metadata": {},
   "outputs": [
    {
     "name": "stdout",
     "output_type": "stream",
     "text": [
      "66\n"
     ]
    }
   ],
   "source": [
    "rare_Image = word['ImageLable'].value_counts()[(word['ImageLable'].value_counts() < 1000) ==True].index\n",
    "print((word['ImageLable'].nunique()) - (rare_Image.nunique()))"
   ]
  },
  {
   "cell_type": "code",
   "execution_count": 78,
   "metadata": {},
   "outputs": [],
   "source": [
    "word['ImageLable'] = word['ImageLable'].apply(lambda x: 'RARE' if x in rare_Image else x)\n",
    "word['ImageLable_1'] = word['ImageLable_1'].apply(lambda x: 'RARE' if x in rare_Image else x)\n",
    "word['ImageLable_2'] = word['ImageLable_2'].apply(lambda x: 'RARE' if x in rare_Image else x)\n",
    "word['ImageLables'] = word['ImageLable'] + ' ' + word['ImageLable_1'] + ' ' + word['ImageLable_2']"
   ]
  },
  {
   "cell_type": "code",
   "execution_count": 80,
   "metadata": {},
   "outputs": [
    {
     "name": "stdout",
     "output_type": "stream",
     "text": [
      "CPU times: user 7min 11s, sys: 14.1 s, total: 7min 25s\n",
      "Wall time: 7min 25s\n"
     ]
    }
   ],
   "source": [
    "%%time\n",
    "temp_word = word['ImageLables'].astype(str).str.get_dummies(\" \") "
   ]
  },
  {
   "cell_type": "code",
   "execution_count": 81,
   "metadata": {},
   "outputs": [],
   "source": [
    "word = word.drop(['ImageLables', 'ImageLable', 'ImageLable_1', 'ImageLable_2'], axis=1)"
   ]
  },
  {
   "cell_type": "code",
   "execution_count": 83,
   "metadata": {},
   "outputs": [
    {
     "data": {
      "text/plain": [
       "((1920452, 68), (1920452, 1), (1920452, 67))"
      ]
     },
     "execution_count": 83,
     "metadata": {},
     "output_type": "execute_result"
    }
   ],
   "source": [
    "X_word = pd.concat([word, temp_word], axis=1, sort=False)\n",
    "X_word.shape, word.shape, temp_word.shape"
   ]
  },
  {
   "cell_type": "code",
   "execution_count": 84,
   "metadata": {},
   "outputs": [],
   "source": [
    "del word, temp_word"
   ]
  },
  {
   "cell_type": "code",
   "execution_count": 85,
   "metadata": {},
   "outputs": [],
   "source": [
    "X_train['target'] = y_train['target']\n",
    "X_test['target'] = -1"
   ]
  },
  {
   "cell_type": "code",
   "execution_count": 89,
   "metadata": {},
   "outputs": [],
   "source": [
    "X_train['ImageId']=pd.read_csv('X_train_sample_x2.csv', index_col =0)[['ImageId']]\n",
    "X_test['ImageId']=pd.read_csv('X_train_sample_x2.csv', index_col =0)[['ImageId']]"
   ]
  },
  {
   "cell_type": "code",
   "execution_count": 91,
   "metadata": {},
   "outputs": [],
   "source": [
    "X_all = pd.concat([pd.DataFrame(X_train), pd.DataFrame(X_test)], sort=False)\n",
    "X_ = X_all.merge(X_word, on='ImageId', how='left', sort=False)"
   ]
  },
  {
   "cell_type": "code",
   "execution_count": 93,
   "metadata": {},
   "outputs": [],
   "source": [
    "del X_all, #X_word"
   ]
  },
  {
   "cell_type": "code",
   "execution_count": 94,
   "metadata": {},
   "outputs": [],
   "source": [
    "X_train_ = X_[(X_.target != -1)].drop(['target', 'ImageId'], axis=1)\n",
    "X_test_ = X_[(X_.target == -1)].drop(['target', 'ImageId'], axis=1)"
   ]
  },
  {
   "cell_type": "code",
   "execution_count": 96,
   "metadata": {},
   "outputs": [
    {
     "data": {
      "text/plain": [
       "(set(), set())"
      ]
     },
     "execution_count": 96,
     "metadata": {},
     "output_type": "execute_result"
    }
   ],
   "source": [
    "set(X_train.columns) - set(X_test.columns), set(X_test.columns) - set(X_train.columns)"
   ]
  },
  {
   "cell_type": "code",
   "execution_count": 97,
   "metadata": {},
   "outputs": [],
   "source": [
    "del X_"
   ]
  },
  {
   "cell_type": "code",
   "execution_count": 98,
   "metadata": {},
   "outputs": [
    {
     "data": {
      "text/plain": [
       "(set(), set())"
      ]
     },
     "execution_count": 98,
     "metadata": {},
     "output_type": "execute_result"
    }
   ],
   "source": [
    "set(X_train_.columns) - set(X_test_.columns), set(X_test_.columns) - set(X_train_.columns)"
   ]
  },
  {
   "cell_type": "code",
   "execution_count": 100,
   "metadata": {},
   "outputs": [
    {
     "data": {
      "text/html": [
       "<div>\n",
       "<style scoped>\n",
       "    .dataframe tbody tr th:only-of-type {\n",
       "        vertical-align: middle;\n",
       "    }\n",
       "\n",
       "    .dataframe tbody tr th {\n",
       "        vertical-align: top;\n",
       "    }\n",
       "\n",
       "    .dataframe thead th {\n",
       "        text-align: right;\n",
       "    }\n",
       "</style>\n",
       "<table border=\"1\" class=\"dataframe\">\n",
       "  <thead>\n",
       "    <tr style=\"text-align: right;\">\n",
       "      <th></th>\n",
       "      <th>instanceId_userId</th>\n",
       "      <th>instanceId_objectId</th>\n",
       "      <th>audit_pos</th>\n",
       "      <th>audit_timestamp</th>\n",
       "      <th>audit_timePassed</th>\n",
       "      <th>metadata_createdAt</th>\n",
       "      <th>metadata_numCompanions</th>\n",
       "      <th>metadata_numPhotos</th>\n",
       "      <th>metadata_numPolls</th>\n",
       "      <th>metadata_numSymbols</th>\n",
       "      <th>...</th>\n",
       "      <th>audit_resourceType_14</th>\n",
       "      <th>dayofweek_0</th>\n",
       "      <th>dayofweek_1</th>\n",
       "      <th>dayofweek_2</th>\n",
       "      <th>dayofweek_3</th>\n",
       "      <th>dayofweek_4</th>\n",
       "      <th>dayofweek_5</th>\n",
       "      <th>dayofweek_6</th>\n",
       "      <th>target</th>\n",
       "      <th>ImageId</th>\n",
       "    </tr>\n",
       "  </thead>\n",
       "  <tbody>\n",
       "    <tr>\n",
       "      <th>0</th>\n",
       "      <td>11880416</td>\n",
       "      <td>19834498</td>\n",
       "      <td>1</td>\n",
       "      <td>1518943264076</td>\n",
       "      <td>681760</td>\n",
       "      <td>1518785445000</td>\n",
       "      <td>0</td>\n",
       "      <td>1</td>\n",
       "      <td>1</td>\n",
       "      <td>0</td>\n",
       "      <td>...</td>\n",
       "      <td>0</td>\n",
       "      <td>0</td>\n",
       "      <td>0</td>\n",
       "      <td>0</td>\n",
       "      <td>0</td>\n",
       "      <td>0</td>\n",
       "      <td>0</td>\n",
       "      <td>1</td>\n",
       "      <td>0.0</td>\n",
       "      <td>['5bfca7c32d3c92835e3209575e285c8c']</td>\n",
       "    </tr>\n",
       "    <tr>\n",
       "      <th>1</th>\n",
       "      <td>8059910</td>\n",
       "      <td>27763185</td>\n",
       "      <td>5</td>\n",
       "      <td>1519399376900</td>\n",
       "      <td>237871</td>\n",
       "      <td>1519390992000</td>\n",
       "      <td>0</td>\n",
       "      <td>0</td>\n",
       "      <td>0</td>\n",
       "      <td>0</td>\n",
       "      <td>...</td>\n",
       "      <td>1</td>\n",
       "      <td>0</td>\n",
       "      <td>0</td>\n",
       "      <td>0</td>\n",
       "      <td>0</td>\n",
       "      <td>1</td>\n",
       "      <td>0</td>\n",
       "      <td>0</td>\n",
       "      <td>NaN</td>\n",
       "      <td>NaN</td>\n",
       "    </tr>\n",
       "    <tr>\n",
       "      <th>2</th>\n",
       "      <td>10389428</td>\n",
       "      <td>25540668</td>\n",
       "      <td>9</td>\n",
       "      <td>1517737977459</td>\n",
       "      <td>907314</td>\n",
       "      <td>1517687714000</td>\n",
       "      <td>0</td>\n",
       "      <td>1</td>\n",
       "      <td>0</td>\n",
       "      <td>918</td>\n",
       "      <td>...</td>\n",
       "      <td>0</td>\n",
       "      <td>0</td>\n",
       "      <td>0</td>\n",
       "      <td>0</td>\n",
       "      <td>0</td>\n",
       "      <td>0</td>\n",
       "      <td>0</td>\n",
       "      <td>1</td>\n",
       "      <td>NaN</td>\n",
       "      <td>NaN</td>\n",
       "    </tr>\n",
       "    <tr>\n",
       "      <th>3</th>\n",
       "      <td>11758940</td>\n",
       "      <td>21660296</td>\n",
       "      <td>2</td>\n",
       "      <td>1520944495639</td>\n",
       "      <td>65634961</td>\n",
       "      <td>1520857023000</td>\n",
       "      <td>0</td>\n",
       "      <td>1</td>\n",
       "      <td>0</td>\n",
       "      <td>31</td>\n",
       "      <td>...</td>\n",
       "      <td>0</td>\n",
       "      <td>0</td>\n",
       "      <td>1</td>\n",
       "      <td>0</td>\n",
       "      <td>0</td>\n",
       "      <td>0</td>\n",
       "      <td>0</td>\n",
       "      <td>0</td>\n",
       "      <td>NaN</td>\n",
       "      <td>NaN</td>\n",
       "    </tr>\n",
       "    <tr>\n",
       "      <th>4</th>\n",
       "      <td>14951459</td>\n",
       "      <td>16783446</td>\n",
       "      <td>3</td>\n",
       "      <td>1521617771342</td>\n",
       "      <td>1521617771342</td>\n",
       "      <td>1521580513000</td>\n",
       "      <td>0</td>\n",
       "      <td>1</td>\n",
       "      <td>0</td>\n",
       "      <td>65</td>\n",
       "      <td>...</td>\n",
       "      <td>0</td>\n",
       "      <td>0</td>\n",
       "      <td>0</td>\n",
       "      <td>1</td>\n",
       "      <td>0</td>\n",
       "      <td>0</td>\n",
       "      <td>0</td>\n",
       "      <td>0</td>\n",
       "      <td>NaN</td>\n",
       "      <td>NaN</td>\n",
       "    </tr>\n",
       "  </tbody>\n",
       "</table>\n",
       "<p>5 rows × 141 columns</p>\n",
       "</div>"
      ],
      "text/plain": [
       "   instanceId_userId  instanceId_objectId  audit_pos  audit_timestamp  \\\n",
       "0           11880416             19834498          1    1518943264076   \n",
       "1            8059910             27763185          5    1519399376900   \n",
       "2           10389428             25540668          9    1517737977459   \n",
       "3           11758940             21660296          2    1520944495639   \n",
       "4           14951459             16783446          3    1521617771342   \n",
       "\n",
       "   audit_timePassed  metadata_createdAt  metadata_numCompanions  \\\n",
       "0            681760       1518785445000                       0   \n",
       "1            237871       1519390992000                       0   \n",
       "2            907314       1517687714000                       0   \n",
       "3          65634961       1520857023000                       0   \n",
       "4     1521617771342       1521580513000                       0   \n",
       "\n",
       "   metadata_numPhotos  metadata_numPolls  metadata_numSymbols  \\\n",
       "0                   1                  1                    0   \n",
       "1                   0                  0                    0   \n",
       "2                   1                  0                  918   \n",
       "3                   1                  0                   31   \n",
       "4                   1                  0                   65   \n",
       "\n",
       "                   ...                   audit_resourceType_14  dayofweek_0  \\\n",
       "0                  ...                                       0            0   \n",
       "1                  ...                                       1            0   \n",
       "2                  ...                                       0            0   \n",
       "3                  ...                                       0            0   \n",
       "4                  ...                                       0            0   \n",
       "\n",
       "   dayofweek_1  dayofweek_2  dayofweek_3  dayofweek_4  dayofweek_5  \\\n",
       "0            0            0            0            0            0   \n",
       "1            0            0            0            1            0   \n",
       "2            0            0            0            0            0   \n",
       "3            1            0            0            0            0   \n",
       "4            0            1            0            0            0   \n",
       "\n",
       "   dayofweek_6  target                               ImageId  \n",
       "0            1     0.0  ['5bfca7c32d3c92835e3209575e285c8c']  \n",
       "1            0     NaN                                   NaN  \n",
       "2            1     NaN                                   NaN  \n",
       "3            0     NaN                                   NaN  \n",
       "4            0     NaN                                   NaN  \n",
       "\n",
       "[5 rows x 141 columns]"
      ]
     },
     "execution_count": 100,
     "metadata": {},
     "output_type": "execute_result"
    }
   ],
   "source": [
    "X_train.reset_index(inplace=True)\n",
    "X_test.reset_index(inplace=True)\n",
    "X_train.head()"
   ]
  },
  {
   "cell_type": "code",
   "execution_count": 101,
   "metadata": {},
   "outputs": [
    {
     "data": {
      "text/html": [
       "<div>\n",
       "<style scoped>\n",
       "    .dataframe tbody tr th:only-of-type {\n",
       "        vertical-align: middle;\n",
       "    }\n",
       "\n",
       "    .dataframe tbody tr th {\n",
       "        vertical-align: top;\n",
       "    }\n",
       "\n",
       "    .dataframe thead th {\n",
       "        text-align: right;\n",
       "    }\n",
       "</style>\n",
       "<table border=\"1\" class=\"dataframe\">\n",
       "  <thead>\n",
       "    <tr style=\"text-align: right;\">\n",
       "      <th></th>\n",
       "      <th>instanceId_userId</th>\n",
       "      <th>instanceId_objectId</th>\n",
       "      <th>audit_pos</th>\n",
       "      <th>audit_timestamp</th>\n",
       "      <th>audit_timePassed</th>\n",
       "      <th>metadata_createdAt</th>\n",
       "      <th>metadata_numCompanions</th>\n",
       "      <th>metadata_numPhotos</th>\n",
       "      <th>metadata_numPolls</th>\n",
       "      <th>metadata_numSymbols</th>\n",
       "      <th>...</th>\n",
       "      <th>audit_resourceType_14</th>\n",
       "      <th>dayofweek_0</th>\n",
       "      <th>dayofweek_1</th>\n",
       "      <th>dayofweek_2</th>\n",
       "      <th>dayofweek_3</th>\n",
       "      <th>dayofweek_4</th>\n",
       "      <th>dayofweek_5</th>\n",
       "      <th>dayofweek_6</th>\n",
       "      <th>target</th>\n",
       "      <th>ImageId</th>\n",
       "    </tr>\n",
       "  </thead>\n",
       "  <tbody>\n",
       "    <tr>\n",
       "      <th>0</th>\n",
       "      <td>602</td>\n",
       "      <td>25708174</td>\n",
       "      <td>0</td>\n",
       "      <td>1521871398528</td>\n",
       "      <td>3571061</td>\n",
       "      <td>1521828068000</td>\n",
       "      <td>0</td>\n",
       "      <td>6</td>\n",
       "      <td>0</td>\n",
       "      <td>26</td>\n",
       "      <td>...</td>\n",
       "      <td>0</td>\n",
       "      <td>0</td>\n",
       "      <td>0</td>\n",
       "      <td>0</td>\n",
       "      <td>0</td>\n",
       "      <td>0</td>\n",
       "      <td>1</td>\n",
       "      <td>0</td>\n",
       "      <td>-1</td>\n",
       "      <td>NaN</td>\n",
       "    </tr>\n",
       "    <tr>\n",
       "      <th>1</th>\n",
       "      <td>602</td>\n",
       "      <td>24393746</td>\n",
       "      <td>7</td>\n",
       "      <td>1521923900981</td>\n",
       "      <td>3271210</td>\n",
       "      <td>1521915281000</td>\n",
       "      <td>0</td>\n",
       "      <td>10</td>\n",
       "      <td>0</td>\n",
       "      <td>55</td>\n",
       "      <td>...</td>\n",
       "      <td>0</td>\n",
       "      <td>0</td>\n",
       "      <td>0</td>\n",
       "      <td>0</td>\n",
       "      <td>0</td>\n",
       "      <td>0</td>\n",
       "      <td>1</td>\n",
       "      <td>0</td>\n",
       "      <td>-1</td>\n",
       "      <td>NaN</td>\n",
       "    </tr>\n",
       "    <tr>\n",
       "      <th>2</th>\n",
       "      <td>803</td>\n",
       "      <td>25400331</td>\n",
       "      <td>2</td>\n",
       "      <td>1522127577706</td>\n",
       "      <td>142606</td>\n",
       "      <td>1521943280000</td>\n",
       "      <td>0</td>\n",
       "      <td>1</td>\n",
       "      <td>0</td>\n",
       "      <td>1491</td>\n",
       "      <td>...</td>\n",
       "      <td>0</td>\n",
       "      <td>0</td>\n",
       "      <td>1</td>\n",
       "      <td>0</td>\n",
       "      <td>0</td>\n",
       "      <td>0</td>\n",
       "      <td>0</td>\n",
       "      <td>0</td>\n",
       "      <td>-1</td>\n",
       "      <td>NaN</td>\n",
       "    </tr>\n",
       "    <tr>\n",
       "      <th>3</th>\n",
       "      <td>803</td>\n",
       "      <td>36083673</td>\n",
       "      <td>20</td>\n",
       "      <td>1522258130090</td>\n",
       "      <td>184593</td>\n",
       "      <td>1522249825000</td>\n",
       "      <td>0</td>\n",
       "      <td>1</td>\n",
       "      <td>0</td>\n",
       "      <td>937</td>\n",
       "      <td>...</td>\n",
       "      <td>0</td>\n",
       "      <td>0</td>\n",
       "      <td>0</td>\n",
       "      <td>1</td>\n",
       "      <td>0</td>\n",
       "      <td>0</td>\n",
       "      <td>0</td>\n",
       "      <td>0</td>\n",
       "      <td>-1</td>\n",
       "      <td>NaN</td>\n",
       "    </tr>\n",
       "    <tr>\n",
       "      <th>4</th>\n",
       "      <td>803</td>\n",
       "      <td>33713302</td>\n",
       "      <td>0</td>\n",
       "      <td>1522420497473</td>\n",
       "      <td>1522420497473</td>\n",
       "      <td>1522407014000</td>\n",
       "      <td>0</td>\n",
       "      <td>2</td>\n",
       "      <td>0</td>\n",
       "      <td>408</td>\n",
       "      <td>...</td>\n",
       "      <td>0</td>\n",
       "      <td>0</td>\n",
       "      <td>0</td>\n",
       "      <td>0</td>\n",
       "      <td>0</td>\n",
       "      <td>1</td>\n",
       "      <td>0</td>\n",
       "      <td>0</td>\n",
       "      <td>-1</td>\n",
       "      <td>NaN</td>\n",
       "    </tr>\n",
       "  </tbody>\n",
       "</table>\n",
       "<p>5 rows × 141 columns</p>\n",
       "</div>"
      ],
      "text/plain": [
       "   instanceId_userId  instanceId_objectId  audit_pos  audit_timestamp  \\\n",
       "0                602             25708174          0    1521871398528   \n",
       "1                602             24393746          7    1521923900981   \n",
       "2                803             25400331          2    1522127577706   \n",
       "3                803             36083673         20    1522258130090   \n",
       "4                803             33713302          0    1522420497473   \n",
       "\n",
       "   audit_timePassed  metadata_createdAt  metadata_numCompanions  \\\n",
       "0           3571061       1521828068000                       0   \n",
       "1           3271210       1521915281000                       0   \n",
       "2            142606       1521943280000                       0   \n",
       "3            184593       1522249825000                       0   \n",
       "4     1522420497473       1522407014000                       0   \n",
       "\n",
       "   metadata_numPhotos  metadata_numPolls  metadata_numSymbols   ...     \\\n",
       "0                   6                  0                   26   ...      \n",
       "1                  10                  0                   55   ...      \n",
       "2                   1                  0                 1491   ...      \n",
       "3                   1                  0                  937   ...      \n",
       "4                   2                  0                  408   ...      \n",
       "\n",
       "   audit_resourceType_14  dayofweek_0  dayofweek_1  dayofweek_2  dayofweek_3  \\\n",
       "0                      0            0            0            0            0   \n",
       "1                      0            0            0            0            0   \n",
       "2                      0            0            1            0            0   \n",
       "3                      0            0            0            1            0   \n",
       "4                      0            0            0            0            0   \n",
       "\n",
       "   dayofweek_4  dayofweek_5  dayofweek_6  target  ImageId  \n",
       "0            0            1            0      -1      NaN  \n",
       "1            0            1            0      -1      NaN  \n",
       "2            0            0            0      -1      NaN  \n",
       "3            0            0            0      -1      NaN  \n",
       "4            1            0            0      -1      NaN  \n",
       "\n",
       "[5 rows x 141 columns]"
      ]
     },
     "execution_count": 101,
     "metadata": {},
     "output_type": "execute_result"
    }
   ],
   "source": [
    "X_test.head()"
   ]
  },
  {
   "cell_type": "code",
   "execution_count": 102,
   "metadata": {},
   "outputs": [
    {
     "data": {
      "text/html": [
       "<div>\n",
       "<style scoped>\n",
       "    .dataframe tbody tr th:only-of-type {\n",
       "        vertical-align: middle;\n",
       "    }\n",
       "\n",
       "    .dataframe tbody tr th {\n",
       "        vertical-align: top;\n",
       "    }\n",
       "\n",
       "    .dataframe thead th {\n",
       "        text-align: right;\n",
       "    }\n",
       "</style>\n",
       "<table border=\"1\" class=\"dataframe\">\n",
       "  <thead>\n",
       "    <tr style=\"text-align: right;\">\n",
       "      <th></th>\n",
       "      <th>instanceId_objectId</th>\n",
       "      <th>audit_pos</th>\n",
       "      <th>audit_timestamp</th>\n",
       "      <th>audit_timePassed</th>\n",
       "      <th>metadata_createdAt</th>\n",
       "      <th>metadata_numCompanions</th>\n",
       "      <th>metadata_numPhotos</th>\n",
       "      <th>metadata_numPolls</th>\n",
       "      <th>metadata_numSymbols</th>\n",
       "      <th>metadata_numTokens</th>\n",
       "      <th>...</th>\n",
       "      <th>technique</th>\n",
       "      <th>toy</th>\n",
       "      <th>train</th>\n",
       "      <th>umbrella</th>\n",
       "      <th>village</th>\n",
       "      <th>web_site</th>\n",
       "      <th>wild_animals</th>\n",
       "      <th>wolf_fox</th>\n",
       "      <th>women</th>\n",
       "      <th>work_machines</th>\n",
       "    </tr>\n",
       "  </thead>\n",
       "  <tbody>\n",
       "    <tr>\n",
       "      <th>0</th>\n",
       "      <td>19834498</td>\n",
       "      <td>1</td>\n",
       "      <td>1518943264076</td>\n",
       "      <td>681760</td>\n",
       "      <td>1518785445000</td>\n",
       "      <td>0</td>\n",
       "      <td>1</td>\n",
       "      <td>1</td>\n",
       "      <td>0</td>\n",
       "      <td>0</td>\n",
       "      <td>...</td>\n",
       "      <td>0.0</td>\n",
       "      <td>0.0</td>\n",
       "      <td>0.0</td>\n",
       "      <td>0.0</td>\n",
       "      <td>0.0</td>\n",
       "      <td>0.0</td>\n",
       "      <td>0.0</td>\n",
       "      <td>0.0</td>\n",
       "      <td>0.0</td>\n",
       "      <td>0.0</td>\n",
       "    </tr>\n",
       "    <tr>\n",
       "      <th>1</th>\n",
       "      <td>27763185</td>\n",
       "      <td>5</td>\n",
       "      <td>1519399376900</td>\n",
       "      <td>237871</td>\n",
       "      <td>1519390992000</td>\n",
       "      <td>0</td>\n",
       "      <td>0</td>\n",
       "      <td>0</td>\n",
       "      <td>0</td>\n",
       "      <td>0</td>\n",
       "      <td>...</td>\n",
       "      <td>0.0</td>\n",
       "      <td>0.0</td>\n",
       "      <td>0.0</td>\n",
       "      <td>0.0</td>\n",
       "      <td>0.0</td>\n",
       "      <td>0.0</td>\n",
       "      <td>0.0</td>\n",
       "      <td>0.0</td>\n",
       "      <td>0.0</td>\n",
       "      <td>0.0</td>\n",
       "    </tr>\n",
       "    <tr>\n",
       "      <th>2</th>\n",
       "      <td>25540668</td>\n",
       "      <td>9</td>\n",
       "      <td>1517737977459</td>\n",
       "      <td>907314</td>\n",
       "      <td>1517687714000</td>\n",
       "      <td>0</td>\n",
       "      <td>1</td>\n",
       "      <td>0</td>\n",
       "      <td>918</td>\n",
       "      <td>133</td>\n",
       "      <td>...</td>\n",
       "      <td>0.0</td>\n",
       "      <td>0.0</td>\n",
       "      <td>0.0</td>\n",
       "      <td>0.0</td>\n",
       "      <td>0.0</td>\n",
       "      <td>0.0</td>\n",
       "      <td>0.0</td>\n",
       "      <td>0.0</td>\n",
       "      <td>0.0</td>\n",
       "      <td>0.0</td>\n",
       "    </tr>\n",
       "    <tr>\n",
       "      <th>3</th>\n",
       "      <td>21660296</td>\n",
       "      <td>2</td>\n",
       "      <td>1520944495639</td>\n",
       "      <td>65634961</td>\n",
       "      <td>1520857023000</td>\n",
       "      <td>0</td>\n",
       "      <td>1</td>\n",
       "      <td>0</td>\n",
       "      <td>31</td>\n",
       "      <td>4</td>\n",
       "      <td>...</td>\n",
       "      <td>0.0</td>\n",
       "      <td>0.0</td>\n",
       "      <td>0.0</td>\n",
       "      <td>0.0</td>\n",
       "      <td>0.0</td>\n",
       "      <td>0.0</td>\n",
       "      <td>0.0</td>\n",
       "      <td>0.0</td>\n",
       "      <td>0.0</td>\n",
       "      <td>0.0</td>\n",
       "    </tr>\n",
       "    <tr>\n",
       "      <th>4</th>\n",
       "      <td>16783446</td>\n",
       "      <td>3</td>\n",
       "      <td>1521617771342</td>\n",
       "      <td>1521617771342</td>\n",
       "      <td>1521580513000</td>\n",
       "      <td>0</td>\n",
       "      <td>1</td>\n",
       "      <td>0</td>\n",
       "      <td>65</td>\n",
       "      <td>10</td>\n",
       "      <td>...</td>\n",
       "      <td>0.0</td>\n",
       "      <td>0.0</td>\n",
       "      <td>0.0</td>\n",
       "      <td>0.0</td>\n",
       "      <td>0.0</td>\n",
       "      <td>0.0</td>\n",
       "      <td>0.0</td>\n",
       "      <td>0.0</td>\n",
       "      <td>0.0</td>\n",
       "      <td>0.0</td>\n",
       "    </tr>\n",
       "  </tbody>\n",
       "</table>\n",
       "<p>5 rows × 205 columns</p>\n",
       "</div>"
      ],
      "text/plain": [
       "   instanceId_objectId  audit_pos  audit_timestamp  audit_timePassed  \\\n",
       "0             19834498          1    1518943264076            681760   \n",
       "1             27763185          5    1519399376900            237871   \n",
       "2             25540668          9    1517737977459            907314   \n",
       "3             21660296          2    1520944495639          65634961   \n",
       "4             16783446          3    1521617771342     1521617771342   \n",
       "\n",
       "   metadata_createdAt  metadata_numCompanions  metadata_numPhotos  \\\n",
       "0       1518785445000                       0                   1   \n",
       "1       1519390992000                       0                   0   \n",
       "2       1517687714000                       0                   1   \n",
       "3       1520857023000                       0                   1   \n",
       "4       1521580513000                       0                   1   \n",
       "\n",
       "   metadata_numPolls  metadata_numSymbols  metadata_numTokens      ...        \\\n",
       "0                  1                    0                   0      ...         \n",
       "1                  0                    0                   0      ...         \n",
       "2                  0                  918                 133      ...         \n",
       "3                  0                   31                   4      ...         \n",
       "4                  0                   65                  10      ...         \n",
       "\n",
       "   technique  toy  train  umbrella  village  web_site  wild_animals  wolf_fox  \\\n",
       "0        0.0  0.0    0.0       0.0      0.0       0.0           0.0       0.0   \n",
       "1        0.0  0.0    0.0       0.0      0.0       0.0           0.0       0.0   \n",
       "2        0.0  0.0    0.0       0.0      0.0       0.0           0.0       0.0   \n",
       "3        0.0  0.0    0.0       0.0      0.0       0.0           0.0       0.0   \n",
       "4        0.0  0.0    0.0       0.0      0.0       0.0           0.0       0.0   \n",
       "\n",
       "   women  work_machines  \n",
       "0    0.0            0.0  \n",
       "1    0.0            0.0  \n",
       "2    0.0            0.0  \n",
       "3    0.0            0.0  \n",
       "4    0.0            0.0  \n",
       "\n",
       "[5 rows x 205 columns]"
      ]
     },
     "execution_count": 102,
     "metadata": {},
     "output_type": "execute_result"
    }
   ],
   "source": [
    "X_train_ = X_train_.fillna(0)\n",
    "X_test_ = X_test_.fillna(0)\n",
    "X_train_.head()"
   ]
  },
  {
   "cell_type": "markdown",
   "metadata": {},
   "source": [
    "#  text"
   ]
  },
  {
   "cell_type": "code",
   "execution_count": 103,
   "metadata": {},
   "outputs": [],
   "source": [
    "import pyarrow.parquet as parquet\n",
    "# Where the downloaded data are\n",
    "input_path = '/mnt/data/dataset/'\n",
    "# Where to store results\n",
    "output_path = './'"
   ]
  },
  {
   "cell_type": "code",
   "execution_count": 104,
   "metadata": {},
   "outputs": [
    {
     "data": {
      "text/html": [
       "<div>\n",
       "<style scoped>\n",
       "    .dataframe tbody tr th:only-of-type {\n",
       "        vertical-align: middle;\n",
       "    }\n",
       "\n",
       "    .dataframe tbody tr th {\n",
       "        vertical-align: top;\n",
       "    }\n",
       "\n",
       "    .dataframe thead th {\n",
       "        text-align: right;\n",
       "    }\n",
       "</style>\n",
       "<table border=\"1\" class=\"dataframe\">\n",
       "  <thead>\n",
       "    <tr style=\"text-align: right;\">\n",
       "      <th></th>\n",
       "      <th>instanceId_objectId</th>\n",
       "      <th>text</th>\n",
       "    </tr>\n",
       "  </thead>\n",
       "  <tbody>\n",
       "    <tr>\n",
       "      <th>0</th>\n",
       "      <td>2695</td>\n",
       "      <td>Деревня Машканка.Автор Швецова З Н . Малая Род...</td>\n",
       "    </tr>\n",
       "    <tr>\n",
       "      <th>1</th>\n",
       "      <td>92687</td>\n",
       "      <td>Классно танцуют Присоединяйтесь к нашей группе...</td>\n",
       "    </tr>\n",
       "    <tr>\n",
       "      <th>2</th>\n",
       "      <td>92851</td>\n",
       "      <td>A-Dessa - Женщины, я не танцую Присоединяйтесь...</td>\n",
       "    </tr>\n",
       "  </tbody>\n",
       "</table>\n",
       "</div>"
      ],
      "text/plain": [
       "   instanceId_objectId                                               text\n",
       "0                 2695  Деревня Машканка.Автор Швецова З Н . Малая Род...\n",
       "1                92687  Классно танцуют Присоединяйтесь к нашей группе...\n",
       "2                92851  A-Dessa - Женщины, я не танцую Присоединяйтесь..."
      ]
     },
     "execution_count": 104,
     "metadata": {},
     "output_type": "execute_result"
    }
   ],
   "source": [
    "content_train = parquet.read_table(input_path + 'texts/train/', columns = ['objectId', 'text']).to_pandas()\n",
    "content_train.rename(columns = {'objectId':'instanceId_objectId'}, inplace = True)\n",
    "content_train.head(3)"
   ]
  },
  {
   "cell_type": "code",
   "execution_count": 105,
   "metadata": {},
   "outputs": [
    {
     "data": {
      "text/html": [
       "<div>\n",
       "<style scoped>\n",
       "    .dataframe tbody tr th:only-of-type {\n",
       "        vertical-align: middle;\n",
       "    }\n",
       "\n",
       "    .dataframe tbody tr th {\n",
       "        vertical-align: top;\n",
       "    }\n",
       "\n",
       "    .dataframe thead th {\n",
       "        text-align: right;\n",
       "    }\n",
       "</style>\n",
       "<table border=\"1\" class=\"dataframe\">\n",
       "  <thead>\n",
       "    <tr style=\"text-align: right;\">\n",
       "      <th></th>\n",
       "      <th>instanceId_objectId</th>\n",
       "      <th>text</th>\n",
       "    </tr>\n",
       "  </thead>\n",
       "  <tbody>\n",
       "    <tr>\n",
       "      <th>0</th>\n",
       "      <td>362378</td>\n",
       "      <td>С таким и не поспоришь..)))))</td>\n",
       "    </tr>\n",
       "    <tr>\n",
       "      <th>1</th>\n",
       "      <td>362665</td>\n",
       "      <td>Волонтер спасла нигерийского мальчика</td>\n",
       "    </tr>\n",
       "    <tr>\n",
       "      <th>2</th>\n",
       "      <td>362903</td>\n",
       "      <td>Стаффтерьер накормил котенка</td>\n",
       "    </tr>\n",
       "  </tbody>\n",
       "</table>\n",
       "</div>"
      ],
      "text/plain": [
       "   instanceId_objectId                                   text\n",
       "0               362378          С таким и не поспоришь..)))))\n",
       "1               362665  Волонтер спасла нигерийского мальчика\n",
       "2               362903           Стаффтерьер накормил котенка"
      ]
     },
     "execution_count": 105,
     "metadata": {},
     "output_type": "execute_result"
    }
   ],
   "source": [
    "#Загружаем содаржание постов из паркета\n",
    "content_test = parquet.read_table(input_path + 'texts/test/', columns = ['objectId', 'text']).to_pandas()\n",
    "content_test.rename(columns = {'objectId':'instanceId_objectId'}, inplace = True)\n",
    "content_test.head(3)"
   ]
  },
  {
   "cell_type": "code",
   "execution_count": 106,
   "metadata": {},
   "outputs": [],
   "source": [
    "content_train_1 = content_train[['instanceId_objectId', 'text']].drop_duplicates(subset='instanceId_objectId', keep='first')"
   ]
  },
  {
   "cell_type": "code",
   "execution_count": 107,
   "metadata": {},
   "outputs": [],
   "source": [
    "content_test_1 = content_test[['instanceId_objectId', 'text']].drop_duplicates(subset='instanceId_objectId', keep='first')"
   ]
  },
  {
   "cell_type": "code",
   "execution_count": 108,
   "metadata": {},
   "outputs": [
    {
     "data": {
      "text/plain": [
       "((3241322, 2), (563660, 2), (3167029, 2), (554901, 2))"
      ]
     },
     "execution_count": 108,
     "metadata": {},
     "output_type": "execute_result"
    }
   ],
   "source": [
    "content_train.shape, content_test.shape, content_train_1.shape, content_test_1.shape"
   ]
  },
  {
   "cell_type": "code",
   "execution_count": 109,
   "metadata": {},
   "outputs": [
    {
     "data": {
      "text/html": [
       "<div>\n",
       "<style scoped>\n",
       "    .dataframe tbody tr th:only-of-type {\n",
       "        vertical-align: middle;\n",
       "    }\n",
       "\n",
       "    .dataframe tbody tr th {\n",
       "        vertical-align: top;\n",
       "    }\n",
       "\n",
       "    .dataframe thead th {\n",
       "        text-align: right;\n",
       "    }\n",
       "</style>\n",
       "<table border=\"1\" class=\"dataframe\">\n",
       "  <thead>\n",
       "    <tr style=\"text-align: right;\">\n",
       "      <th></th>\n",
       "      <th>instanceId_objectId</th>\n",
       "      <th>audit_pos</th>\n",
       "      <th>audit_timestamp</th>\n",
       "      <th>audit_timePassed</th>\n",
       "      <th>metadata_createdAt</th>\n",
       "      <th>metadata_numCompanions</th>\n",
       "      <th>metadata_numPhotos</th>\n",
       "      <th>metadata_numPolls</th>\n",
       "      <th>metadata_numSymbols</th>\n",
       "      <th>metadata_numTokens</th>\n",
       "      <th>...</th>\n",
       "      <th>toy</th>\n",
       "      <th>train</th>\n",
       "      <th>umbrella</th>\n",
       "      <th>village</th>\n",
       "      <th>web_site</th>\n",
       "      <th>wild_animals</th>\n",
       "      <th>wolf_fox</th>\n",
       "      <th>women</th>\n",
       "      <th>work_machines</th>\n",
       "      <th>text</th>\n",
       "    </tr>\n",
       "  </thead>\n",
       "  <tbody>\n",
       "    <tr>\n",
       "      <th>0</th>\n",
       "      <td>19834498</td>\n",
       "      <td>1</td>\n",
       "      <td>1518943264076</td>\n",
       "      <td>681760</td>\n",
       "      <td>1518785445000</td>\n",
       "      <td>0</td>\n",
       "      <td>1</td>\n",
       "      <td>1</td>\n",
       "      <td>0</td>\n",
       "      <td>0</td>\n",
       "      <td>...</td>\n",
       "      <td>0.0</td>\n",
       "      <td>0.0</td>\n",
       "      <td>0.0</td>\n",
       "      <td>0.0</td>\n",
       "      <td>0.0</td>\n",
       "      <td>0.0</td>\n",
       "      <td>0.0</td>\n",
       "      <td>0.0</td>\n",
       "      <td>0.0</td>\n",
       "      <td>Флаг какой страны изображен на фото ??? ТАДЖИК...</td>\n",
       "    </tr>\n",
       "    <tr>\n",
       "      <th>1</th>\n",
       "      <td>27763185</td>\n",
       "      <td>5</td>\n",
       "      <td>1519399376900</td>\n",
       "      <td>237871</td>\n",
       "      <td>1519390992000</td>\n",
       "      <td>0</td>\n",
       "      <td>0</td>\n",
       "      <td>0</td>\n",
       "      <td>0</td>\n",
       "      <td>0</td>\n",
       "      <td>...</td>\n",
       "      <td>0.0</td>\n",
       "      <td>0.0</td>\n",
       "      <td>0.0</td>\n",
       "      <td>0.0</td>\n",
       "      <td>0.0</td>\n",
       "      <td>0.0</td>\n",
       "      <td>0.0</td>\n",
       "      <td>0.0</td>\n",
       "      <td>0.0</td>\n",
       "      <td>NaN</td>\n",
       "    </tr>\n",
       "    <tr>\n",
       "      <th>2</th>\n",
       "      <td>25540668</td>\n",
       "      <td>9</td>\n",
       "      <td>1517737977459</td>\n",
       "      <td>907314</td>\n",
       "      <td>1517687714000</td>\n",
       "      <td>0</td>\n",
       "      <td>1</td>\n",
       "      <td>0</td>\n",
       "      <td>918</td>\n",
       "      <td>133</td>\n",
       "      <td>...</td>\n",
       "      <td>0.0</td>\n",
       "      <td>0.0</td>\n",
       "      <td>0.0</td>\n",
       "      <td>0.0</td>\n",
       "      <td>0.0</td>\n",
       "      <td>0.0</td>\n",
       "      <td>0.0</td>\n",
       "      <td>0.0</td>\n",
       "      <td>0.0</td>\n",
       "      <td>NaN</td>\n",
       "    </tr>\n",
       "  </tbody>\n",
       "</table>\n",
       "<p>3 rows × 206 columns</p>\n",
       "</div>"
      ],
      "text/plain": [
       "   instanceId_objectId  audit_pos  audit_timestamp  audit_timePassed  \\\n",
       "0             19834498          1    1518943264076            681760   \n",
       "1             27763185          5    1519399376900            237871   \n",
       "2             25540668          9    1517737977459            907314   \n",
       "\n",
       "   metadata_createdAt  metadata_numCompanions  metadata_numPhotos  \\\n",
       "0       1518785445000                       0                   1   \n",
       "1       1519390992000                       0                   0   \n",
       "2       1517687714000                       0                   1   \n",
       "\n",
       "   metadata_numPolls  metadata_numSymbols  metadata_numTokens  \\\n",
       "0                  1                    0                   0   \n",
       "1                  0                    0                   0   \n",
       "2                  0                  918                 133   \n",
       "\n",
       "                         ...                          toy  train  umbrella  \\\n",
       "0                        ...                          0.0    0.0       0.0   \n",
       "1                        ...                          0.0    0.0       0.0   \n",
       "2                        ...                          0.0    0.0       0.0   \n",
       "\n",
       "   village  web_site  wild_animals  wolf_fox  women  work_machines  \\\n",
       "0      0.0       0.0           0.0       0.0    0.0            0.0   \n",
       "1      0.0       0.0           0.0       0.0    0.0            0.0   \n",
       "2      0.0       0.0           0.0       0.0    0.0            0.0   \n",
       "\n",
       "                                                text  \n",
       "0  Флаг какой страны изображен на фото ??? ТАДЖИК...  \n",
       "1                                                NaN  \n",
       "2                                                NaN  \n",
       "\n",
       "[3 rows x 206 columns]"
      ]
     },
     "execution_count": 109,
     "metadata": {},
     "output_type": "execute_result"
    }
   ],
   "source": [
    "#соединяем трейн с постами\n",
    "X_train_c = X_train_.merge(content_train_1, on='instanceId_objectId', how='left', sort=False)\n",
    "X_train_c.head(3)"
   ]
  },
  {
   "cell_type": "code",
   "execution_count": 110,
   "metadata": {},
   "outputs": [
    {
     "data": {
      "text/html": [
       "<div>\n",
       "<style scoped>\n",
       "    .dataframe tbody tr th:only-of-type {\n",
       "        vertical-align: middle;\n",
       "    }\n",
       "\n",
       "    .dataframe tbody tr th {\n",
       "        vertical-align: top;\n",
       "    }\n",
       "\n",
       "    .dataframe thead th {\n",
       "        text-align: right;\n",
       "    }\n",
       "</style>\n",
       "<table border=\"1\" class=\"dataframe\">\n",
       "  <thead>\n",
       "    <tr style=\"text-align: right;\">\n",
       "      <th></th>\n",
       "      <th>instanceId_objectId</th>\n",
       "      <th>audit_pos</th>\n",
       "      <th>audit_timestamp</th>\n",
       "      <th>audit_timePassed</th>\n",
       "      <th>metadata_createdAt</th>\n",
       "      <th>metadata_numCompanions</th>\n",
       "      <th>metadata_numPhotos</th>\n",
       "      <th>metadata_numPolls</th>\n",
       "      <th>metadata_numSymbols</th>\n",
       "      <th>metadata_numTokens</th>\n",
       "      <th>...</th>\n",
       "      <th>toy</th>\n",
       "      <th>train</th>\n",
       "      <th>umbrella</th>\n",
       "      <th>village</th>\n",
       "      <th>web_site</th>\n",
       "      <th>wild_animals</th>\n",
       "      <th>wolf_fox</th>\n",
       "      <th>women</th>\n",
       "      <th>work_machines</th>\n",
       "      <th>text</th>\n",
       "    </tr>\n",
       "  </thead>\n",
       "  <tbody>\n",
       "    <tr>\n",
       "      <th>0</th>\n",
       "      <td>25708174</td>\n",
       "      <td>0</td>\n",
       "      <td>1521871398528</td>\n",
       "      <td>3571061</td>\n",
       "      <td>1521828068000</td>\n",
       "      <td>0</td>\n",
       "      <td>6</td>\n",
       "      <td>0</td>\n",
       "      <td>26</td>\n",
       "      <td>3</td>\n",
       "      <td>...</td>\n",
       "      <td>0.0</td>\n",
       "      <td>0.0</td>\n",
       "      <td>0.0</td>\n",
       "      <td>0.0</td>\n",
       "      <td>0.0</td>\n",
       "      <td>0.0</td>\n",
       "      <td>0.0</td>\n",
       "      <td>0.0</td>\n",
       "      <td>0.0</td>\n",
       "      <td>NaN</td>\n",
       "    </tr>\n",
       "    <tr>\n",
       "      <th>1</th>\n",
       "      <td>24393746</td>\n",
       "      <td>7</td>\n",
       "      <td>1521923900981</td>\n",
       "      <td>3271210</td>\n",
       "      <td>1521915281000</td>\n",
       "      <td>0</td>\n",
       "      <td>10</td>\n",
       "      <td>0</td>\n",
       "      <td>55</td>\n",
       "      <td>11</td>\n",
       "      <td>...</td>\n",
       "      <td>0.0</td>\n",
       "      <td>0.0</td>\n",
       "      <td>0.0</td>\n",
       "      <td>0.0</td>\n",
       "      <td>0.0</td>\n",
       "      <td>0.0</td>\n",
       "      <td>0.0</td>\n",
       "      <td>0.0</td>\n",
       "      <td>0.0</td>\n",
       "      <td>Потратил на это 8 дней мне 20 лет! Оцените мою...</td>\n",
       "    </tr>\n",
       "    <tr>\n",
       "      <th>2</th>\n",
       "      <td>25400331</td>\n",
       "      <td>2</td>\n",
       "      <td>1522127577706</td>\n",
       "      <td>142606</td>\n",
       "      <td>1521943280000</td>\n",
       "      <td>0</td>\n",
       "      <td>1</td>\n",
       "      <td>0</td>\n",
       "      <td>1491</td>\n",
       "      <td>215</td>\n",
       "      <td>...</td>\n",
       "      <td>0.0</td>\n",
       "      <td>0.0</td>\n",
       "      <td>0.0</td>\n",
       "      <td>0.0</td>\n",
       "      <td>0.0</td>\n",
       "      <td>0.0</td>\n",
       "      <td>0.0</td>\n",
       "      <td>0.0</td>\n",
       "      <td>0.0</td>\n",
       "      <td>NaN</td>\n",
       "    </tr>\n",
       "  </tbody>\n",
       "</table>\n",
       "<p>3 rows × 206 columns</p>\n",
       "</div>"
      ],
      "text/plain": [
       "   instanceId_objectId  audit_pos  audit_timestamp  audit_timePassed  \\\n",
       "0             25708174          0    1521871398528           3571061   \n",
       "1             24393746          7    1521923900981           3271210   \n",
       "2             25400331          2    1522127577706            142606   \n",
       "\n",
       "   metadata_createdAt  metadata_numCompanions  metadata_numPhotos  \\\n",
       "0       1521828068000                       0                   6   \n",
       "1       1521915281000                       0                  10   \n",
       "2       1521943280000                       0                   1   \n",
       "\n",
       "   metadata_numPolls  metadata_numSymbols  metadata_numTokens  \\\n",
       "0                  0                   26                   3   \n",
       "1                  0                   55                  11   \n",
       "2                  0                 1491                 215   \n",
       "\n",
       "                         ...                          toy  train  umbrella  \\\n",
       "0                        ...                          0.0    0.0       0.0   \n",
       "1                        ...                          0.0    0.0       0.0   \n",
       "2                        ...                          0.0    0.0       0.0   \n",
       "\n",
       "   village  web_site  wild_animals  wolf_fox  women  work_machines  \\\n",
       "0      0.0       0.0           0.0       0.0    0.0            0.0   \n",
       "1      0.0       0.0           0.0       0.0    0.0            0.0   \n",
       "2      0.0       0.0           0.0       0.0    0.0            0.0   \n",
       "\n",
       "                                                text  \n",
       "0                                                NaN  \n",
       "1  Потратил на это 8 дней мне 20 лет! Оцените мою...  \n",
       "2                                                NaN  \n",
       "\n",
       "[3 rows x 206 columns]"
      ]
     },
     "execution_count": 110,
     "metadata": {},
     "output_type": "execute_result"
    }
   ],
   "source": [
    "X_test_c = X_test_.merge(content_test_1, on='instanceId_objectId', how='left', sort=False)\n",
    "X_test_c.head(3)"
   ]
  },
  {
   "cell_type": "code",
   "execution_count": 111,
   "metadata": {},
   "outputs": [
    {
     "data": {
      "text/html": [
       "<div>\n",
       "<style scoped>\n",
       "    .dataframe tbody tr th:only-of-type {\n",
       "        vertical-align: middle;\n",
       "    }\n",
       "\n",
       "    .dataframe tbody tr th {\n",
       "        vertical-align: top;\n",
       "    }\n",
       "\n",
       "    .dataframe thead th {\n",
       "        text-align: right;\n",
       "    }\n",
       "</style>\n",
       "<table border=\"1\" class=\"dataframe\">\n",
       "  <thead>\n",
       "    <tr style=\"text-align: right;\">\n",
       "      <th></th>\n",
       "      <th>instanceId_objectId</th>\n",
       "      <th>audit_pos</th>\n",
       "      <th>audit_timestamp</th>\n",
       "      <th>audit_timePassed</th>\n",
       "      <th>metadata_createdAt</th>\n",
       "      <th>metadata_numCompanions</th>\n",
       "      <th>metadata_numPhotos</th>\n",
       "      <th>metadata_numPolls</th>\n",
       "      <th>metadata_numSymbols</th>\n",
       "      <th>metadata_numTokens</th>\n",
       "      <th>...</th>\n",
       "      <th>toy</th>\n",
       "      <th>train</th>\n",
       "      <th>umbrella</th>\n",
       "      <th>village</th>\n",
       "      <th>web_site</th>\n",
       "      <th>wild_animals</th>\n",
       "      <th>wolf_fox</th>\n",
       "      <th>women</th>\n",
       "      <th>work_machines</th>\n",
       "      <th>text</th>\n",
       "    </tr>\n",
       "  </thead>\n",
       "  <tbody>\n",
       "    <tr>\n",
       "      <th>0</th>\n",
       "      <td>19834498</td>\n",
       "      <td>1</td>\n",
       "      <td>1518943264076</td>\n",
       "      <td>681760</td>\n",
       "      <td>1518785445000</td>\n",
       "      <td>0</td>\n",
       "      <td>1</td>\n",
       "      <td>1</td>\n",
       "      <td>0</td>\n",
       "      <td>0</td>\n",
       "      <td>...</td>\n",
       "      <td>0.0</td>\n",
       "      <td>0.0</td>\n",
       "      <td>0.0</td>\n",
       "      <td>0.0</td>\n",
       "      <td>0.0</td>\n",
       "      <td>0.0</td>\n",
       "      <td>0.0</td>\n",
       "      <td>0.0</td>\n",
       "      <td>0.0</td>\n",
       "      <td>Флаг какой страны изображен на фото ??? ТАДЖИК...</td>\n",
       "    </tr>\n",
       "    <tr>\n",
       "      <th>1</th>\n",
       "      <td>27763185</td>\n",
       "      <td>5</td>\n",
       "      <td>1519399376900</td>\n",
       "      <td>237871</td>\n",
       "      <td>1519390992000</td>\n",
       "      <td>0</td>\n",
       "      <td>0</td>\n",
       "      <td>0</td>\n",
       "      <td>0</td>\n",
       "      <td>0</td>\n",
       "      <td>...</td>\n",
       "      <td>0.0</td>\n",
       "      <td>0.0</td>\n",
       "      <td>0.0</td>\n",
       "      <td>0.0</td>\n",
       "      <td>0.0</td>\n",
       "      <td>0.0</td>\n",
       "      <td>0.0</td>\n",
       "      <td>0.0</td>\n",
       "      <td>0.0</td>\n",
       "      <td></td>\n",
       "    </tr>\n",
       "    <tr>\n",
       "      <th>2</th>\n",
       "      <td>25540668</td>\n",
       "      <td>9</td>\n",
       "      <td>1517737977459</td>\n",
       "      <td>907314</td>\n",
       "      <td>1517687714000</td>\n",
       "      <td>0</td>\n",
       "      <td>1</td>\n",
       "      <td>0</td>\n",
       "      <td>918</td>\n",
       "      <td>133</td>\n",
       "      <td>...</td>\n",
       "      <td>0.0</td>\n",
       "      <td>0.0</td>\n",
       "      <td>0.0</td>\n",
       "      <td>0.0</td>\n",
       "      <td>0.0</td>\n",
       "      <td>0.0</td>\n",
       "      <td>0.0</td>\n",
       "      <td>0.0</td>\n",
       "      <td>0.0</td>\n",
       "      <td></td>\n",
       "    </tr>\n",
       "  </tbody>\n",
       "</table>\n",
       "<p>3 rows × 206 columns</p>\n",
       "</div>"
      ],
      "text/plain": [
       "   instanceId_objectId  audit_pos  audit_timestamp  audit_timePassed  \\\n",
       "0             19834498          1    1518943264076            681760   \n",
       "1             27763185          5    1519399376900            237871   \n",
       "2             25540668          9    1517737977459            907314   \n",
       "\n",
       "   metadata_createdAt  metadata_numCompanions  metadata_numPhotos  \\\n",
       "0       1518785445000                       0                   1   \n",
       "1       1519390992000                       0                   0   \n",
       "2       1517687714000                       0                   1   \n",
       "\n",
       "   metadata_numPolls  metadata_numSymbols  metadata_numTokens  \\\n",
       "0                  1                    0                   0   \n",
       "1                  0                    0                   0   \n",
       "2                  0                  918                 133   \n",
       "\n",
       "                         ...                          toy  train  umbrella  \\\n",
       "0                        ...                          0.0    0.0       0.0   \n",
       "1                        ...                          0.0    0.0       0.0   \n",
       "2                        ...                          0.0    0.0       0.0   \n",
       "\n",
       "   village  web_site  wild_animals  wolf_fox  women  work_machines  \\\n",
       "0      0.0       0.0           0.0       0.0    0.0            0.0   \n",
       "1      0.0       0.0           0.0       0.0    0.0            0.0   \n",
       "2      0.0       0.0           0.0       0.0    0.0            0.0   \n",
       "\n",
       "                                                text  \n",
       "0  Флаг какой страны изображен на фото ??? ТАДЖИК...  \n",
       "1                                                     \n",
       "2                                                     \n",
       "\n",
       "[3 rows x 206 columns]"
      ]
     },
     "execution_count": 111,
     "metadata": {},
     "output_type": "execute_result"
    }
   ],
   "source": [
    "X_train_c['text'].fillna(' ', inplace = True)\n",
    "X_test_c['text'].fillna(' ', inplace = True)\n",
    "X_train_c.head(3)"
   ]
  },
  {
   "cell_type": "code",
   "execution_count": 114,
   "metadata": {},
   "outputs": [
    {
     "name": "stderr",
     "output_type": "stream",
     "text": [
      "[nltk_data] Downloading package stopwords to\n",
      "[nltk_data]     /home/hackathon/nltk_data...\n",
      "[nltk_data]   Package stopwords is already up-to-date!\n",
      "[nltk_data] Downloading package punkt to /home/hackathon/nltk_data...\n",
      "[nltk_data]   Package punkt is already up-to-date!\n"
     ]
    },
    {
     "data": {
      "text/plain": [
       "True"
      ]
     },
     "execution_count": 114,
     "metadata": {},
     "output_type": "execute_result"
    }
   ],
   "source": [
    "from scipy.sparse import csr_matrix, hstack\n",
    "from sklearn.feature_extraction.text import TfidfVectorizer\n",
    "import nltk\n",
    "from nltk.stem.snowball import SnowballStemmer\n",
    "nltk.download('stopwords')\n",
    "nltk.download('punkt')"
   ]
  },
  {
   "cell_type": "code",
   "execution_count": 116,
   "metadata": {},
   "outputs": [],
   "source": [
    "stemmer = SnowballStemmer(\"russian\")\n",
    "stopwords = nltk.corpus.stopwords.words('russian')"
   ]
  },
  {
   "cell_type": "code",
   "execution_count": 118,
   "metadata": {},
   "outputs": [],
   "source": [
    "tfidfn = TfidfVectorizer(ngram_range=(1, 3), max_df=0.9, min_df=0.01, max_features=400, stop_words=stopwords, \n",
    "                         sublinear_tf=True)"
   ]
  },
  {
   "cell_type": "code",
   "execution_count": 123,
   "metadata": {},
   "outputs": [
    {
     "name": "stdout",
     "output_type": "stream",
     "text": [
      "CPU times: user 23min 48s, sys: 2min 49s, total: 26min 38s\n",
      "Wall time: 26min 43s\n"
     ]
    }
   ],
   "source": [
    "%%time\n",
    "X_train_sparse0 = tfidfn.fit(content_train_1['text'])"
   ]
  },
  {
   "cell_type": "code",
   "execution_count": 125,
   "metadata": {},
   "outputs": [
    {
     "data": {
      "text/plain": [
       "((6157569, 141), (6157569, 205), (6157569, 206))"
      ]
     },
     "execution_count": 125,
     "metadata": {},
     "output_type": "execute_result"
    }
   ],
   "source": [
    "X_train.shape, X_train_.shape, X_train_c.shape, #X_train_sparse1.shape"
   ]
  },
  {
   "cell_type": "code",
   "execution_count": 126,
   "metadata": {},
   "outputs": [
    {
     "name": "stdout",
     "output_type": "stream",
     "text": [
      "CPU times: user 11min 12s, sys: 11.2 s, total: 11min 24s\n",
      "Wall time: 11min 30s\n"
     ]
    }
   ],
   "source": [
    "%%time\n",
    "#X_train_sparse1 = tfidfn.fit_transform(X_train_c['text'])\n",
    "X_train_sparse1 = tfidfn.transform(X_train_c['text'])"
   ]
  },
  {
   "cell_type": "code",
   "execution_count": 127,
   "metadata": {},
   "outputs": [
    {
     "name": "stdout",
     "output_type": "stream",
     "text": [
      "CPU times: user 6min 5s, sys: 6.44 s, total: 6min 11s\n",
      "Wall time: 6min 13s\n"
     ]
    }
   ],
   "source": [
    "%%time\n",
    "X_test_sparse1 = tfidfn.transform(X_test_c['text'])"
   ]
  },
  {
   "cell_type": "code",
   "execution_count": 128,
   "metadata": {},
   "outputs": [],
   "source": [
    "X_train_x = X_train.drop(['target', 'ImageId'], axis=1)\n",
    "X_test_x = X_test.drop(['target', 'ImageId'], axis=1)"
   ]
  },
  {
   "cell_type": "code",
   "execution_count": 129,
   "metadata": {},
   "outputs": [],
   "source": [
    "X_train_sparse = csr_matrix(hstack([X_train_x, X_train_sparse1]))\n",
    "X_test_sparse = csr_matrix(hstack([X_test_x, X_test_sparse1]))"
   ]
  },
  {
   "cell_type": "markdown",
   "metadata": {},
   "source": [
    "# model"
   ]
  },
  {
   "cell_type": "code",
   "execution_count": 131,
   "metadata": {},
   "outputs": [],
   "source": [
    "X_train_1, X_hold, Y_train_1, Y_hold = train_test_split(X_train_sparse, y_train, test_size=0.3, \n",
    "                                                        random_state=42, shuffle = True)\n",
    "X_train_0, X_valid, Y_train_0, Y_valid = train_test_split(X_train_1, Y_train_1, test_size=0.3, \n",
    "                                                          random_state=42, shuffle = True)"
   ]
  },
  {
   "cell_type": "code",
   "execution_count": 132,
   "metadata": {},
   "outputs": [],
   "source": [
    "lgb_train = lgb.Dataset(X_train_1, label=Y_train_1, free_raw_data=False)\n",
    "lgb_test = lgb.Dataset(X_valid, label=Y_valid, free_raw_data=False)"
   ]
  },
  {
   "cell_type": "code",
   "execution_count": 134,
   "metadata": {
    "scrolled": true
   },
   "outputs": [
    {
     "name": "stdout",
     "output_type": "stream",
     "text": [
      "Training until validation scores don't improve for 100 rounds.\n",
      "[100]\ttrain's binary_logloss: 0.411593\ttest's binary_logloss: 0.411799\n",
      "[200]\ttrain's binary_logloss: 0.409708\ttest's binary_logloss: 0.409901\n",
      "[300]\ttrain's binary_logloss: 0.408842\ttest's binary_logloss: 0.409045\n",
      "[400]\ttrain's binary_logloss: 0.408242\ttest's binary_logloss: 0.408437\n",
      "[500]\ttrain's binary_logloss: 0.407698\ttest's binary_logloss: 0.407894\n",
      "[600]\ttrain's binary_logloss: 0.407197\ttest's binary_logloss: 0.407388\n",
      "[700]\ttrain's binary_logloss: 0.406742\ttest's binary_logloss: 0.406936\n",
      "[800]\ttrain's binary_logloss: 0.40636\ttest's binary_logloss: 0.406554\n",
      "[900]\ttrain's binary_logloss: 0.405953\ttest's binary_logloss: 0.406143\n",
      "[1000]\ttrain's binary_logloss: 0.405539\ttest's binary_logloss: 0.405723\n",
      "[1100]\ttrain's binary_logloss: 0.405195\ttest's binary_logloss: 0.405377\n",
      "[1200]\ttrain's binary_logloss: 0.404842\ttest's binary_logloss: 0.405023\n",
      "[1300]\ttrain's binary_logloss: 0.40448\ttest's binary_logloss: 0.404662\n",
      "[1400]\ttrain's binary_logloss: 0.404178\ttest's binary_logloss: 0.404358\n",
      "[1500]\ttrain's binary_logloss: 0.403828\ttest's binary_logloss: 0.404017\n",
      "[1600]\ttrain's binary_logloss: 0.403482\ttest's binary_logloss: 0.403675\n",
      "[1700]\ttrain's binary_logloss: 0.403166\ttest's binary_logloss: 0.403361\n",
      "[1800]\ttrain's binary_logloss: 0.402806\ttest's binary_logloss: 0.402997\n",
      "[1900]\ttrain's binary_logloss: 0.402415\ttest's binary_logloss: 0.40261\n",
      "[2000]\ttrain's binary_logloss: 0.402065\ttest's binary_logloss: 0.402264\n",
      "[2100]\ttrain's binary_logloss: 0.401793\ttest's binary_logloss: 0.401992\n",
      "[2200]\ttrain's binary_logloss: 0.401514\ttest's binary_logloss: 0.401713\n",
      "[2300]\ttrain's binary_logloss: 0.401216\ttest's binary_logloss: 0.401405\n",
      "[2400]\ttrain's binary_logloss: 0.400895\ttest's binary_logloss: 0.401086\n",
      "[2500]\ttrain's binary_logloss: 0.40063\ttest's binary_logloss: 0.400825\n",
      "[2600]\ttrain's binary_logloss: 0.400352\ttest's binary_logloss: 0.400544\n",
      "[2700]\ttrain's binary_logloss: 0.400033\ttest's binary_logloss: 0.400226\n",
      "[2800]\ttrain's binary_logloss: 0.399794\ttest's binary_logloss: 0.399991\n",
      "[2900]\ttrain's binary_logloss: 0.399503\ttest's binary_logloss: 0.399694\n",
      "[3000]\ttrain's binary_logloss: 0.399247\ttest's binary_logloss: 0.399437\n",
      "[3100]\ttrain's binary_logloss: 0.398972\ttest's binary_logloss: 0.399162\n",
      "[3200]\ttrain's binary_logloss: 0.398692\ttest's binary_logloss: 0.39888\n",
      "[3300]\ttrain's binary_logloss: 0.398356\ttest's binary_logloss: 0.398542\n",
      "[3400]\ttrain's binary_logloss: 0.398074\ttest's binary_logloss: 0.398254\n",
      "[3500]\ttrain's binary_logloss: 0.397813\ttest's binary_logloss: 0.397999\n",
      "[3600]\ttrain's binary_logloss: 0.397527\ttest's binary_logloss: 0.397714\n",
      "[3700]\ttrain's binary_logloss: 0.397261\ttest's binary_logloss: 0.397446\n",
      "[3800]\ttrain's binary_logloss: 0.396993\ttest's binary_logloss: 0.397186\n",
      "[3900]\ttrain's binary_logloss: 0.396715\ttest's binary_logloss: 0.396911\n",
      "[4000]\ttrain's binary_logloss: 0.396446\ttest's binary_logloss: 0.396643\n",
      "[4100]\ttrain's binary_logloss: 0.396171\ttest's binary_logloss: 0.396368\n",
      "[4200]\ttrain's binary_logloss: 0.395884\ttest's binary_logloss: 0.396083\n",
      "[4300]\ttrain's binary_logloss: 0.395579\ttest's binary_logloss: 0.395783\n",
      "[4400]\ttrain's binary_logloss: 0.395311\ttest's binary_logloss: 0.395515\n",
      "[4500]\ttrain's binary_logloss: 0.395043\ttest's binary_logloss: 0.395242\n",
      "[4600]\ttrain's binary_logloss: 0.39481\ttest's binary_logloss: 0.39501\n",
      "[4700]\ttrain's binary_logloss: 0.394533\ttest's binary_logloss: 0.394738\n",
      "[4800]\ttrain's binary_logloss: 0.394262\ttest's binary_logloss: 0.394472\n",
      "[4900]\ttrain's binary_logloss: 0.394032\ttest's binary_logloss: 0.394247\n",
      "[5000]\ttrain's binary_logloss: 0.393784\ttest's binary_logloss: 0.394\n",
      "Did not meet early stopping. Best iteration is:\n",
      "[5000]\ttrain's binary_logloss: 0.393784\ttest's binary_logloss: 0.394\n",
      "CPU times: user 19h 19min 39s, sys: 6min 18s, total: 19h 25min 58s\n",
      "Wall time: 36min 5s\n"
     ]
    }
   ],
   "source": [
    "%%time\n",
    "model = lgb.train(\n",
    "                lgb_params,\n",
    "                lgb_train,\n",
    "                valid_sets=[lgb_train, lgb_test],\n",
    "                valid_names=['train', 'test'],\n",
    "                num_boost_round=5000,\n",
    "                early_stopping_rounds= 100,\n",
    "                verbose_eval=100\n",
    "                )"
   ]
  },
  {
   "cell_type": "code",
   "execution_count": 135,
   "metadata": {},
   "outputs": [
    {
     "name": "stdout",
     "output_type": "stream",
     "text": [
      "0.774716144220658\n",
      "0.40766893637690726\n"
     ]
    }
   ],
   "source": [
    "print(roc_auc_score(Y_hold, model.predict(X_hold)))\n",
    "print(log_loss(Y_hold, model.predict(X_hold)))"
   ]
  },
  {
   "cell_type": "code",
   "execution_count": 156,
   "metadata": {},
   "outputs": [],
   "source": [
    "prediction = model.predict(X_test_sparse, num_iteration=model.best_iteration)\n",
    "y_test[\"predictions\"]= -prediction"
   ]
  },
  {
   "cell_type": "code",
   "execution_count": 158,
   "metadata": {},
   "outputs": [
    {
     "data": {
      "text/html": [
       "<div>\n",
       "<style scoped>\n",
       "    .dataframe tbody tr th:only-of-type {\n",
       "        vertical-align: middle;\n",
       "    }\n",
       "\n",
       "    .dataframe tbody tr th {\n",
       "        vertical-align: top;\n",
       "    }\n",
       "\n",
       "    .dataframe thead th {\n",
       "        text-align: right;\n",
       "    }\n",
       "</style>\n",
       "<table border=\"1\" class=\"dataframe\">\n",
       "  <thead>\n",
       "    <tr style=\"text-align: right;\">\n",
       "      <th></th>\n",
       "      <th>instanceId_userId</th>\n",
       "      <th>instanceId_objectId</th>\n",
       "      <th>predictions</th>\n",
       "    </tr>\n",
       "  </thead>\n",
       "  <tbody>\n",
       "    <tr>\n",
       "      <th>381655</th>\n",
       "      <td>8</td>\n",
       "      <td>38659430</td>\n",
       "      <td>-0.412611</td>\n",
       "    </tr>\n",
       "    <tr>\n",
       "      <th>381652</th>\n",
       "      <td>8</td>\n",
       "      <td>20989661</td>\n",
       "      <td>-0.398381</td>\n",
       "    </tr>\n",
       "    <tr>\n",
       "      <th>381651</th>\n",
       "      <td>8</td>\n",
       "      <td>14385580</td>\n",
       "      <td>-0.310108</td>\n",
       "    </tr>\n",
       "    <tr>\n",
       "      <th>381648</th>\n",
       "      <td>8</td>\n",
       "      <td>26815124</td>\n",
       "      <td>-0.274924</td>\n",
       "    </tr>\n",
       "    <tr>\n",
       "      <th>381653</th>\n",
       "      <td>8</td>\n",
       "      <td>22160290</td>\n",
       "      <td>-0.242467</td>\n",
       "    </tr>\n",
       "  </tbody>\n",
       "</table>\n",
       "</div>"
      ],
      "text/plain": [
       "        instanceId_userId  instanceId_objectId  predictions\n",
       "381655                  8             38659430    -0.412611\n",
       "381652                  8             20989661    -0.398381\n",
       "381651                  8             14385580    -0.310108\n",
       "381648                  8             26815124    -0.274924\n",
       "381653                  8             22160290    -0.242467"
      ]
     },
     "execution_count": 158,
     "metadata": {},
     "output_type": "execute_result"
    }
   ],
   "source": [
    "# Peek only needed columns and sort\n",
    "result = y_test[[\"instanceId_userId\", \"instanceId_objectId\", \"predictions\"]].sort_values(\n",
    "    by=['instanceId_userId', 'predictions'])\n",
    "result.head()"
   ]
  },
  {
   "cell_type": "code",
   "execution_count": 159,
   "metadata": {},
   "outputs": [
    {
     "data": {
      "text/plain": [
       "instanceId_userId\n",
       "8      [38659430, 20989661, 14385580, 26815124, 22160...\n",
       "59                        [23685237, 39141251, 29096263]\n",
       "92                        [12367356, 19818572, 23774973]\n",
       "107    [20658574, 38038671, 10501436, 20368797, 22664...\n",
       "158                       [30223730, 33303760, 19280083]\n",
       "Name: instanceId_objectId, dtype: object"
      ]
     },
     "execution_count": 159,
     "metadata": {},
     "output_type": "execute_result"
    }
   ],
   "source": [
    "# Collect predictions for each user\n",
    "submit = result.groupby(\"instanceId_userId\")['instanceId_objectId'].apply(list)\n",
    "submit.head()"
   ]
  },
  {
   "cell_type": "code",
   "execution_count": 160,
   "metadata": {},
   "outputs": [],
   "source": [
    "# Persist the first submit\n",
    "submit.to_csv(\"collabSubmit8.csv.gz\", header = False, compression='gzip')"
   ]
  },
  {
   "cell_type": "code",
   "execution_count": 161,
   "metadata": {},
   "outputs": [],
   "source": [
    "y_test = y_test.to_csv(\"y_test_all_2.csv\")"
   ]
  },
  {
   "cell_type": "code",
   "execution_count": 131,
   "metadata": {},
   "outputs": [],
   "source": [
    "y_test = y_test.drop(['predictions'], axis=1)"
   ]
  },
  {
   "cell_type": "code",
   "execution_count": 188,
   "metadata": {},
   "outputs": [],
   "source": [
    "lgb_params = {\n",
    "    'task': 'train',\n",
    "    'learning_rate': 0.1, \n",
    "    'max_depth': 9, \n",
    "#    'n_estimators': 500, \n",
    "    'num_leaves': 20, \n",
    "    'reg_alpha': 5.79,    \n",
    "    'reg_lambda': 3.79,\n",
    "    'objective': 'binary',\n",
    "    'metric': 'binary_logloss',\n",
    "    'random_state': 42,\n",
    "    'colsample_bytree': 0.9, \n",
    "    'subsample': 0.9,\n",
    "    'n_jobs': 24,\n",
    "#    'device': 'gpu',   \n",
    "}"
   ]
  },
  {
   "cell_type": "code",
   "execution_count": 189,
   "metadata": {},
   "outputs": [],
   "source": [
    "df_train = X_train\n",
    "df_test = X_test\n",
    "target = y_train\n",
    "features = list(df_train)\n",
    "categorical_feats = None\n",
    "param = lgb_params\n",
    "num_folds = 5"
   ]
  },
  {
   "cell_type": "code",
   "execution_count": 190,
   "metadata": {},
   "outputs": [
    {
     "name": "stdout",
     "output_type": "stream",
     "text": [
      "fold n°1\n",
      "Training until validation scores don't improve for 100 rounds.\n",
      "[100]\ttraining's binary_logloss: 0.411569\tvalid_1's binary_logloss: 0.411918\n",
      "[200]\ttraining's binary_logloss: 0.409756\tvalid_1's binary_logloss: 0.41035\n",
      "[300]\ttraining's binary_logloss: 0.408833\tvalid_1's binary_logloss: 0.409689\n",
      "[400]\ttraining's binary_logloss: 0.408263\tvalid_1's binary_logloss: 0.409383\n",
      "[500]\ttraining's binary_logloss: 0.407808\tvalid_1's binary_logloss: 0.409194\n",
      "[600]\ttraining's binary_logloss: 0.407413\tvalid_1's binary_logloss: 0.409047\n",
      "[700]\ttraining's binary_logloss: 0.406998\tvalid_1's binary_logloss: 0.408895\n",
      "[800]\ttraining's binary_logloss: 0.406639\tvalid_1's binary_logloss: 0.40879\n",
      "[900]\ttraining's binary_logloss: 0.406231\tvalid_1's binary_logloss: 0.408649\n",
      "[1000]\ttraining's binary_logloss: 0.405779\tvalid_1's binary_logloss: 0.408464\n",
      "[1100]\ttraining's binary_logloss: 0.40542\tvalid_1's binary_logloss: 0.408364\n",
      "[1200]\ttraining's binary_logloss: 0.405021\tvalid_1's binary_logloss: 0.40823\n",
      "[1300]\ttraining's binary_logloss: 0.404696\tvalid_1's binary_logloss: 0.408159\n",
      "[1400]\ttraining's binary_logloss: 0.404391\tvalid_1's binary_logloss: 0.408112\n",
      "[1500]\ttraining's binary_logloss: 0.404032\tvalid_1's binary_logloss: 0.408016\n",
      "[1600]\ttraining's binary_logloss: 0.403696\tvalid_1's binary_logloss: 0.407938\n",
      "[1700]\ttraining's binary_logloss: 0.403397\tvalid_1's binary_logloss: 0.407882\n",
      "[1800]\ttraining's binary_logloss: 0.403084\tvalid_1's binary_logloss: 0.407826\n",
      "[1900]\ttraining's binary_logloss: 0.402762\tvalid_1's binary_logloss: 0.407757\n",
      "[2000]\ttraining's binary_logloss: 0.402486\tvalid_1's binary_logloss: 0.407721\n",
      "[2100]\ttraining's binary_logloss: 0.402155\tvalid_1's binary_logloss: 0.407656\n",
      "[2200]\ttraining's binary_logloss: 0.401871\tvalid_1's binary_logloss: 0.40762\n",
      "[2300]\ttraining's binary_logloss: 0.401577\tvalid_1's binary_logloss: 0.407578\n",
      "[2400]\ttraining's binary_logloss: 0.401298\tvalid_1's binary_logloss: 0.407554\n",
      "[2500]\ttraining's binary_logloss: 0.401015\tvalid_1's binary_logloss: 0.40754\n",
      "[2600]\ttraining's binary_logloss: 0.400733\tvalid_1's binary_logloss: 0.407513\n",
      "[2700]\ttraining's binary_logloss: 0.400467\tvalid_1's binary_logloss: 0.407492\n",
      "[2800]\ttraining's binary_logloss: 0.400175\tvalid_1's binary_logloss: 0.407454\n",
      "[2900]\ttraining's binary_logloss: 0.39991\tvalid_1's binary_logloss: 0.407433\n",
      "[3000]\ttraining's binary_logloss: 0.399662\tvalid_1's binary_logloss: 0.407418\n",
      "[3100]\ttraining's binary_logloss: 0.399391\tvalid_1's binary_logloss: 0.407411\n",
      "[3200]\ttraining's binary_logloss: 0.399118\tvalid_1's binary_logloss: 0.407395\n",
      "[3300]\ttraining's binary_logloss: 0.398844\tvalid_1's binary_logloss: 0.407372\n",
      "[3400]\ttraining's binary_logloss: 0.398578\tvalid_1's binary_logloss: 0.407359\n",
      "[3500]\ttraining's binary_logloss: 0.398334\tvalid_1's binary_logloss: 0.407357\n",
      "[3600]\ttraining's binary_logloss: 0.398073\tvalid_1's binary_logloss: 0.407348\n",
      "[3700]\ttraining's binary_logloss: 0.397822\tvalid_1's binary_logloss: 0.407341\n",
      "[3800]\ttraining's binary_logloss: 0.397549\tvalid_1's binary_logloss: 0.40733\n",
      "[3900]\ttraining's binary_logloss: 0.397294\tvalid_1's binary_logloss: 0.407323\n",
      "[4000]\ttraining's binary_logloss: 0.39705\tvalid_1's binary_logloss: 0.407319\n",
      "Did not meet early stopping. Best iteration is:\n",
      "[4000]\ttraining's binary_logloss: 0.39705\tvalid_1's binary_logloss: 0.407319\n",
      "Fold  1 roc_auc : 0.510814\n",
      "fold n°2\n",
      "Training until validation scores don't improve for 100 rounds.\n",
      "[100]\ttraining's binary_logloss: 0.41155\tvalid_1's binary_logloss: 0.412334\n",
      "[200]\ttraining's binary_logloss: 0.409672\tvalid_1's binary_logloss: 0.410663\n",
      "[300]\ttraining's binary_logloss: 0.408771\tvalid_1's binary_logloss: 0.410015\n",
      "[400]\ttraining's binary_logloss: 0.408193\tvalid_1's binary_logloss: 0.409693\n",
      "[500]\ttraining's binary_logloss: 0.40772\tvalid_1's binary_logloss: 0.409463\n",
      "[600]\ttraining's binary_logloss: 0.407295\tvalid_1's binary_logloss: 0.409288\n",
      "[700]\ttraining's binary_logloss: 0.406845\tvalid_1's binary_logloss: 0.409077\n",
      "[800]\ttraining's binary_logloss: 0.406475\tvalid_1's binary_logloss: 0.408952\n",
      "[900]\ttraining's binary_logloss: 0.40601\tvalid_1's binary_logloss: 0.40874\n",
      "[1000]\ttraining's binary_logloss: 0.405658\tvalid_1's binary_logloss: 0.408634\n",
      "[1100]\ttraining's binary_logloss: 0.40529\tvalid_1's binary_logloss: 0.408518\n",
      "[1200]\ttraining's binary_logloss: 0.404933\tvalid_1's binary_logloss: 0.408406\n",
      "[1300]\ttraining's binary_logloss: 0.404606\tvalid_1's binary_logloss: 0.408332\n",
      "[1400]\ttraining's binary_logloss: 0.404265\tvalid_1's binary_logloss: 0.408244\n",
      "[1500]\ttraining's binary_logloss: 0.403977\tvalid_1's binary_logloss: 0.408206\n",
      "[1600]\ttraining's binary_logloss: 0.403652\tvalid_1's binary_logloss: 0.40812\n",
      "[1700]\ttraining's binary_logloss: 0.403326\tvalid_1's binary_logloss: 0.408062\n",
      "[1800]\ttraining's binary_logloss: 0.403031\tvalid_1's binary_logloss: 0.408025\n",
      "[1900]\ttraining's binary_logloss: 0.402705\tvalid_1's binary_logloss: 0.40796\n",
      "[2000]\ttraining's binary_logloss: 0.402409\tvalid_1's binary_logloss: 0.407925\n",
      "[2100]\ttraining's binary_logloss: 0.402077\tvalid_1's binary_logloss: 0.407847\n",
      "[2200]\ttraining's binary_logloss: 0.401766\tvalid_1's binary_logloss: 0.407789\n",
      "[2300]\ttraining's binary_logloss: 0.401502\tvalid_1's binary_logloss: 0.407762\n",
      "[2400]\ttraining's binary_logloss: 0.401209\tvalid_1's binary_logloss: 0.407744\n",
      "[2500]\ttraining's binary_logloss: 0.400941\tvalid_1's binary_logloss: 0.40772\n",
      "[2600]\ttraining's binary_logloss: 0.400662\tvalid_1's binary_logloss: 0.407696\n",
      "[2700]\ttraining's binary_logloss: 0.400394\tvalid_1's binary_logloss: 0.407683\n",
      "[2800]\ttraining's binary_logloss: 0.400128\tvalid_1's binary_logloss: 0.407667\n",
      "[2900]\ttraining's binary_logloss: 0.399876\tvalid_1's binary_logloss: 0.407662\n",
      "[3000]\ttraining's binary_logloss: 0.399606\tvalid_1's binary_logloss: 0.407651\n",
      "[3100]\ttraining's binary_logloss: 0.399324\tvalid_1's binary_logloss: 0.407641\n",
      "[3200]\ttraining's binary_logloss: 0.399068\tvalid_1's binary_logloss: 0.407633\n",
      "Early stopping, best iteration is:\n",
      "[3181]\ttraining's binary_logloss: 0.399113\tvalid_1's binary_logloss: 0.407629\n",
      "Fold  2 roc_auc : 0.544240\n",
      "fold n°3\n",
      "Training until validation scores don't improve for 100 rounds.\n",
      "[100]\ttraining's binary_logloss: 0.411356\tvalid_1's binary_logloss: 0.412557\n",
      "[200]\ttraining's binary_logloss: 0.409557\tvalid_1's binary_logloss: 0.411063\n",
      "[300]\ttraining's binary_logloss: 0.40872\tvalid_1's binary_logloss: 0.410502\n",
      "[400]\ttraining's binary_logloss: 0.408076\tvalid_1's binary_logloss: 0.410128\n",
      "[500]\ttraining's binary_logloss: 0.407636\tvalid_1's binary_logloss: 0.40995\n",
      "[600]\ttraining's binary_logloss: 0.407193\tvalid_1's binary_logloss: 0.40976\n",
      "[700]\ttraining's binary_logloss: 0.406769\tvalid_1's binary_logloss: 0.409588\n",
      "[800]\ttraining's binary_logloss: 0.406323\tvalid_1's binary_logloss: 0.409391\n",
      "[900]\ttraining's binary_logloss: 0.405962\tvalid_1's binary_logloss: 0.409287\n",
      "[1000]\ttraining's binary_logloss: 0.405616\tvalid_1's binary_logloss: 0.40919\n",
      "[1100]\ttraining's binary_logloss: 0.405254\tvalid_1's binary_logloss: 0.409082\n",
      "[1200]\ttraining's binary_logloss: 0.404902\tvalid_1's binary_logloss: 0.408981\n",
      "[1300]\ttraining's binary_logloss: 0.404586\tvalid_1's binary_logloss: 0.408912\n",
      "[1400]\ttraining's binary_logloss: 0.404251\tvalid_1's binary_logloss: 0.408838\n",
      "[1500]\ttraining's binary_logloss: 0.40392\tvalid_1's binary_logloss: 0.408753\n",
      "[1600]\ttraining's binary_logloss: 0.403615\tvalid_1's binary_logloss: 0.408707\n",
      "[1700]\ttraining's binary_logloss: 0.403329\tvalid_1's binary_logloss: 0.408672\n",
      "[1800]\ttraining's binary_logloss: 0.402941\tvalid_1's binary_logloss: 0.408538\n",
      "[1900]\ttraining's binary_logloss: 0.402638\tvalid_1's binary_logloss: 0.408491\n",
      "[2000]\ttraining's binary_logloss: 0.402323\tvalid_1's binary_logloss: 0.408433\n",
      "[2100]\ttraining's binary_logloss: 0.402026\tvalid_1's binary_logloss: 0.408387\n",
      "[2200]\ttraining's binary_logloss: 0.40173\tvalid_1's binary_logloss: 0.408356\n",
      "[2300]\ttraining's binary_logloss: 0.401422\tvalid_1's binary_logloss: 0.408316\n",
      "[2400]\ttraining's binary_logloss: 0.401148\tvalid_1's binary_logloss: 0.408293\n",
      "[2500]\ttraining's binary_logloss: 0.400864\tvalid_1's binary_logloss: 0.408267\n",
      "[2600]\ttraining's binary_logloss: 0.400588\tvalid_1's binary_logloss: 0.408239\n",
      "[2700]\ttraining's binary_logloss: 0.400332\tvalid_1's binary_logloss: 0.408238\n",
      "[2800]\ttraining's binary_logloss: 0.400051\tvalid_1's binary_logloss: 0.408222\n"
     ]
    },
    {
     "name": "stdout",
     "output_type": "stream",
     "text": [
      "[2900]\ttraining's binary_logloss: 0.399755\tvalid_1's binary_logloss: 0.408192\n",
      "[3000]\ttraining's binary_logloss: 0.3995\tvalid_1's binary_logloss: 0.408189\n",
      "[3100]\ttraining's binary_logloss: 0.399245\tvalid_1's binary_logloss: 0.408183\n",
      "[3200]\ttraining's binary_logloss: 0.398996\tvalid_1's binary_logloss: 0.408174\n",
      "[3300]\ttraining's binary_logloss: 0.398719\tvalid_1's binary_logloss: 0.40815\n",
      "[3400]\ttraining's binary_logloss: 0.398443\tvalid_1's binary_logloss: 0.408141\n",
      "[3500]\ttraining's binary_logloss: 0.398197\tvalid_1's binary_logloss: 0.40814\n",
      "Early stopping, best iteration is:\n",
      "[3451]\ttraining's binary_logloss: 0.398316\tvalid_1's binary_logloss: 0.408136\n",
      "Fold  3 roc_auc : 0.599335\n",
      "fold n°4\n",
      "Training until validation scores don't improve for 100 rounds.\n",
      "[100]\ttraining's binary_logloss: 0.411677\tvalid_1's binary_logloss: 0.411811\n",
      "[200]\ttraining's binary_logloss: 0.409816\tvalid_1's binary_logloss: 0.410173\n",
      "[300]\ttraining's binary_logloss: 0.409018\tvalid_1's binary_logloss: 0.409612\n",
      "[400]\ttraining's binary_logloss: 0.40846\tvalid_1's binary_logloss: 0.40931\n",
      "[500]\ttraining's binary_logloss: 0.408022\tvalid_1's binary_logloss: 0.409123\n",
      "[600]\ttraining's binary_logloss: 0.407544\tvalid_1's binary_logloss: 0.408898\n",
      "[700]\ttraining's binary_logloss: 0.407099\tvalid_1's binary_logloss: 0.408699\n",
      "[800]\ttraining's binary_logloss: 0.406651\tvalid_1's binary_logloss: 0.408522\n",
      "[900]\ttraining's binary_logloss: 0.406239\tvalid_1's binary_logloss: 0.408371\n",
      "[1000]\ttraining's binary_logloss: 0.405882\tvalid_1's binary_logloss: 0.408258\n",
      "[1100]\ttraining's binary_logloss: 0.405519\tvalid_1's binary_logloss: 0.408162\n",
      "[1200]\ttraining's binary_logloss: 0.405094\tvalid_1's binary_logloss: 0.40799\n",
      "[1300]\ttraining's binary_logloss: 0.404782\tvalid_1's binary_logloss: 0.407932\n",
      "[1400]\ttraining's binary_logloss: 0.404413\tvalid_1's binary_logloss: 0.407836\n",
      "[1500]\ttraining's binary_logloss: 0.404108\tvalid_1's binary_logloss: 0.407772\n",
      "[1600]\ttraining's binary_logloss: 0.403803\tvalid_1's binary_logloss: 0.407717\n",
      "[1700]\ttraining's binary_logloss: 0.403506\tvalid_1's binary_logloss: 0.407659\n",
      "[1800]\ttraining's binary_logloss: 0.403179\tvalid_1's binary_logloss: 0.407588\n",
      "[1900]\ttraining's binary_logloss: 0.402865\tvalid_1's binary_logloss: 0.407532\n",
      "[2000]\ttraining's binary_logloss: 0.402593\tvalid_1's binary_logloss: 0.407498\n",
      "[2100]\ttraining's binary_logloss: 0.40231\tvalid_1's binary_logloss: 0.407447\n",
      "[2200]\ttraining's binary_logloss: 0.40203\tvalid_1's binary_logloss: 0.407417\n",
      "[2300]\ttraining's binary_logloss: 0.401746\tvalid_1's binary_logloss: 0.407387\n",
      "[2400]\ttraining's binary_logloss: 0.401438\tvalid_1's binary_logloss: 0.407339\n",
      "[2500]\ttraining's binary_logloss: 0.401157\tvalid_1's binary_logloss: 0.407312\n",
      "[2600]\ttraining's binary_logloss: 0.40086\tvalid_1's binary_logloss: 0.407272\n",
      "[2700]\ttraining's binary_logloss: 0.400578\tvalid_1's binary_logloss: 0.407243\n",
      "[2800]\ttraining's binary_logloss: 0.400304\tvalid_1's binary_logloss: 0.407227\n",
      "[2900]\ttraining's binary_logloss: 0.400033\tvalid_1's binary_logloss: 0.407214\n",
      "[3000]\ttraining's binary_logloss: 0.399751\tvalid_1's binary_logloss: 0.407183\n",
      "[3100]\ttraining's binary_logloss: 0.399491\tvalid_1's binary_logloss: 0.40717\n",
      "[3200]\ttraining's binary_logloss: 0.399244\tvalid_1's binary_logloss: 0.407167\n",
      "[3300]\ttraining's binary_logloss: 0.398983\tvalid_1's binary_logloss: 0.407171\n",
      "[3400]\ttraining's binary_logloss: 0.398713\tvalid_1's binary_logloss: 0.407161\n",
      "[3500]\ttraining's binary_logloss: 0.398428\tvalid_1's binary_logloss: 0.407128\n",
      "[3600]\ttraining's binary_logloss: 0.398175\tvalid_1's binary_logloss: 0.40712\n",
      "Early stopping, best iteration is:\n",
      "[3541]\ttraining's binary_logloss: 0.398316\tvalid_1's binary_logloss: 0.407117\n",
      "Fold  4 roc_auc : 0.676190\n",
      "fold n°5\n",
      "Training until validation scores don't improve for 100 rounds.\n",
      "[100]\ttraining's binary_logloss: 0.411794\tvalid_1's binary_logloss: 0.411322\n",
      "[200]\ttraining's binary_logloss: 0.409942\tvalid_1's binary_logloss: 0.409721\n",
      "[300]\ttraining's binary_logloss: 0.409073\tvalid_1's binary_logloss: 0.40913\n",
      "[400]\ttraining's binary_logloss: 0.408509\tvalid_1's binary_logloss: 0.408829\n",
      "[500]\ttraining's binary_logloss: 0.407982\tvalid_1's binary_logloss: 0.408565\n",
      "[600]\ttraining's binary_logloss: 0.407621\tvalid_1's binary_logloss: 0.408452\n",
      "[700]\ttraining's binary_logloss: 0.407183\tvalid_1's binary_logloss: 0.408269\n",
      "[800]\ttraining's binary_logloss: 0.406743\tvalid_1's binary_logloss: 0.408094\n",
      "[900]\ttraining's binary_logloss: 0.406404\tvalid_1's binary_logloss: 0.408006\n",
      "[1000]\ttraining's binary_logloss: 0.406025\tvalid_1's binary_logloss: 0.407884\n",
      "[1100]\ttraining's binary_logloss: 0.405699\tvalid_1's binary_logloss: 0.407802\n",
      "[1200]\ttraining's binary_logloss: 0.405315\tvalid_1's binary_logloss: 0.407677\n",
      "[1300]\ttraining's binary_logloss: 0.404897\tvalid_1's binary_logloss: 0.407519\n",
      "[1400]\ttraining's binary_logloss: 0.404573\tvalid_1's binary_logloss: 0.40745\n",
      "[1500]\ttraining's binary_logloss: 0.404259\tvalid_1's binary_logloss: 0.407388\n",
      "[1600]\ttraining's binary_logloss: 0.403954\tvalid_1's binary_logloss: 0.407341\n",
      "[1700]\ttraining's binary_logloss: 0.40366\tvalid_1's binary_logloss: 0.407297\n",
      "[1800]\ttraining's binary_logloss: 0.40333\tvalid_1's binary_logloss: 0.407237\n",
      "[1900]\ttraining's binary_logloss: 0.403044\tvalid_1's binary_logloss: 0.407193\n",
      "[2000]\ttraining's binary_logloss: 0.402753\tvalid_1's binary_logloss: 0.407157\n",
      "[2100]\ttraining's binary_logloss: 0.402429\tvalid_1's binary_logloss: 0.407091\n",
      "[2200]\ttraining's binary_logloss: 0.402133\tvalid_1's binary_logloss: 0.407048\n",
      "[2300]\ttraining's binary_logloss: 0.401853\tvalid_1's binary_logloss: 0.407024\n",
      "[2400]\ttraining's binary_logloss: 0.401581\tvalid_1's binary_logloss: 0.407004\n",
      "[2500]\ttraining's binary_logloss: 0.401301\tvalid_1's binary_logloss: 0.406976\n",
      "[2600]\ttraining's binary_logloss: 0.40102\tvalid_1's binary_logloss: 0.406944\n",
      "[2700]\ttraining's binary_logloss: 0.400764\tvalid_1's binary_logloss: 0.406931\n",
      "[2800]\ttraining's binary_logloss: 0.400488\tvalid_1's binary_logloss: 0.406899\n",
      "[2900]\ttraining's binary_logloss: 0.400202\tvalid_1's binary_logloss: 0.406875\n",
      "[3000]\ttraining's binary_logloss: 0.399949\tvalid_1's binary_logloss: 0.406862\n",
      "[3100]\ttraining's binary_logloss: 0.399687\tvalid_1's binary_logloss: 0.406839\n",
      "[3200]\ttraining's binary_logloss: 0.399408\tvalid_1's binary_logloss: 0.406817\n",
      "[3300]\ttraining's binary_logloss: 0.399116\tvalid_1's binary_logloss: 0.406777\n",
      "[3400]\ttraining's binary_logloss: 0.398875\tvalid_1's binary_logloss: 0.40677\n",
      "[3500]\ttraining's binary_logloss: 0.398616\tvalid_1's binary_logloss: 0.406759\n",
      "[3600]\ttraining's binary_logloss: 0.398354\tvalid_1's binary_logloss: 0.406748\n",
      "[3700]\ttraining's binary_logloss: 0.398106\tvalid_1's binary_logloss: 0.406744\n",
      "[3800]\ttraining's binary_logloss: 0.397851\tvalid_1's binary_logloss: 0.40674\n",
      "[3900]\ttraining's binary_logloss: 0.3976\tvalid_1's binary_logloss: 0.406733\n",
      "Early stopping, best iteration is:\n",
      "[3871]\ttraining's binary_logloss: 0.397671\tvalid_1's binary_logloss: 0.406732\n",
      "Fold  5 roc_auc : 0.774996\n",
      "CV score: 0.77500 \n",
      "CPU times: user 18h 10min 16s, sys: 5min 25s, total: 18h 15min 42s\n",
      "Wall time: 1h 5min 35s\n"
     ]
    }
   ],
   "source": [
    "%%time\n",
    "folds = KFold(n_splits= num_folds, shuffle=True, random_state=42)\n",
    "oof = np.zeros(len(df_train))\n",
    "predictions = np.zeros(len(df_test))\n",
    "\n",
    "#start = time.time()\n",
    "\n",
    "for fold_, (trn_idx, val_idx) in enumerate(folds.split(df_train, target)):\n",
    "    print(\"fold n°{}\".format(fold_ + 1))\n",
    "    trn_data = lgb.Dataset(df_train.iloc[trn_idx][features], label=target.iloc[trn_idx], categorical_feature=categorical_feats)\n",
    "    val_data = lgb.Dataset(df_train.iloc[val_idx][features], label=target.iloc[val_idx], categorical_feature=categorical_feats)\n",
    "\n",
    "    num_round = 4000\n",
    "    clf = lgb.train(param, trn_data, num_round, valid_sets = [trn_data, val_data], verbose_eval=100, early_stopping_rounds = 100)\n",
    "    oof[val_idx] = clf.predict(df_train.iloc[val_idx][features], num_iteration=clf.best_iteration)\n",
    "    \n",
    "    print('Fold %2d roc_auc : %.6f' % (fold_ + 1, roc_auc_score(target, oof)))    \n",
    "    #Прогноз\n",
    "    predictions += clf.predict(df_test[features], num_iteration=clf.best_iteration) / folds.n_splits\n",
    "    \n",
    "\n",
    "print(\"CV score: {:<8.5f}\".format(roc_auc_score(target, oof)))"
   ]
  },
  {
   "cell_type": "code",
   "execution_count": 195,
   "metadata": {},
   "outputs": [],
   "source": [
    "y_test[\"predictions\"]= -predictions"
   ]
  },
  {
   "cell_type": "code",
   "execution_count": 196,
   "metadata": {},
   "outputs": [
    {
     "data": {
      "text/html": [
       "<div>\n",
       "<style scoped>\n",
       "    .dataframe tbody tr th:only-of-type {\n",
       "        vertical-align: middle;\n",
       "    }\n",
       "\n",
       "    .dataframe tbody tr th {\n",
       "        vertical-align: top;\n",
       "    }\n",
       "\n",
       "    .dataframe thead th {\n",
       "        text-align: right;\n",
       "    }\n",
       "</style>\n",
       "<table border=\"1\" class=\"dataframe\">\n",
       "  <thead>\n",
       "    <tr style=\"text-align: right;\">\n",
       "      <th></th>\n",
       "      <th>instanceId_userId</th>\n",
       "      <th>instanceId_objectId</th>\n",
       "      <th>predictions</th>\n",
       "    </tr>\n",
       "  </thead>\n",
       "  <tbody>\n",
       "    <tr>\n",
       "      <th>381655</th>\n",
       "      <td>8</td>\n",
       "      <td>38659430</td>\n",
       "      <td>-0.421674</td>\n",
       "    </tr>\n",
       "    <tr>\n",
       "      <th>381652</th>\n",
       "      <td>8</td>\n",
       "      <td>20989661</td>\n",
       "      <td>-0.393939</td>\n",
       "    </tr>\n",
       "    <tr>\n",
       "      <th>381651</th>\n",
       "      <td>8</td>\n",
       "      <td>14385580</td>\n",
       "      <td>-0.365560</td>\n",
       "    </tr>\n",
       "    <tr>\n",
       "      <th>381648</th>\n",
       "      <td>8</td>\n",
       "      <td>26815124</td>\n",
       "      <td>-0.303013</td>\n",
       "    </tr>\n",
       "    <tr>\n",
       "      <th>381653</th>\n",
       "      <td>8</td>\n",
       "      <td>22160290</td>\n",
       "      <td>-0.222386</td>\n",
       "    </tr>\n",
       "  </tbody>\n",
       "</table>\n",
       "</div>"
      ],
      "text/plain": [
       "        instanceId_userId  instanceId_objectId  predictions\n",
       "381655                  8             38659430    -0.421674\n",
       "381652                  8             20989661    -0.393939\n",
       "381651                  8             14385580    -0.365560\n",
       "381648                  8             26815124    -0.303013\n",
       "381653                  8             22160290    -0.222386"
      ]
     },
     "execution_count": 196,
     "metadata": {},
     "output_type": "execute_result"
    }
   ],
   "source": [
    "# Peek only needed columns and sort\n",
    "result = y_test[[\"instanceId_userId\", \"instanceId_objectId\", \"predictions\"]].sort_values(\n",
    "    by=['instanceId_userId', 'predictions'])\n",
    "result.head()"
   ]
  },
  {
   "cell_type": "code",
   "execution_count": 197,
   "metadata": {},
   "outputs": [
    {
     "data": {
      "text/plain": [
       "instanceId_userId\n",
       "8      [38659430, 20989661, 14385580, 26815124, 22160...\n",
       "59                        [23685237, 29096263, 39141251]\n",
       "92                        [12367356, 19818572, 23774973]\n",
       "107    [20658574, 10501436, 20368797, 38038671, 39090...\n",
       "158                       [30223730, 33303760, 19280083]\n",
       "Name: instanceId_objectId, dtype: object"
      ]
     },
     "execution_count": 197,
     "metadata": {},
     "output_type": "execute_result"
    }
   ],
   "source": [
    "# Collect predictions for each user\n",
    "submit = result.groupby(\"instanceId_userId\")['instanceId_objectId'].apply(list)\n",
    "submit.head()"
   ]
  },
  {
   "cell_type": "code",
   "execution_count": 198,
   "metadata": {},
   "outputs": [],
   "source": [
    "submit.to_csv(\"collabSubmit10.csv.gz\", header = False, compression='gzip')"
   ]
  },
  {
   "cell_type": "code",
   "execution_count": 199,
   "metadata": {},
   "outputs": [],
   "source": [
    "y_test = y_test.to_csv(\"y_test_all_4.csv\")"
   ]
  },
  {
   "cell_type": "code",
   "execution_count": null,
   "metadata": {},
   "outputs": [],
   "source": []
  }
 ],
 "metadata": {
  "kernelspec": {
   "display_name": "Python 3",
   "language": "python",
   "name": "python3"
  },
  "language_info": {
   "codemirror_mode": {
    "name": "ipython",
    "version": 3
   },
   "file_extension": ".py",
   "mimetype": "text/x-python",
   "name": "python",
   "nbconvert_exporter": "python",
   "pygments_lexer": "ipython3",
   "version": "3.6.9"
  }
 },
 "nbformat": 4,
 "nbformat_minor": 2
}
